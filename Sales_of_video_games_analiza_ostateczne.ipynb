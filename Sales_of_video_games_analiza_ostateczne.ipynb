{
 "cells": [
  {
   "cell_type": "code",
   "execution_count": 32,
   "metadata": {},
   "outputs": [],
   "source": [
    "# na początku importuje niezbędne moduły\n",
    "import numpy as np\n",
    "import pandas as pd\n",
    "import matplotlib.pyplot as plt\n",
    "import scipy.stats as st\n",
    "\n",
    "plt.style.use('seaborn') #zmieniam styl wykresów na seaborn, ponieważ podoba mi się ten styl i to tylko kwestia moich preferencji"
   ]
  },
  {
   "cell_type": "code",
   "execution_count": 33,
   "metadata": {
    "scrolled": true
   },
   "outputs": [
    {
     "data": {
      "text/html": [
       "<div>\n",
       "<style scoped>\n",
       "    .dataframe tbody tr th:only-of-type {\n",
       "        vertical-align: middle;\n",
       "    }\n",
       "\n",
       "    .dataframe tbody tr th {\n",
       "        vertical-align: top;\n",
       "    }\n",
       "\n",
       "    .dataframe thead th {\n",
       "        text-align: right;\n",
       "    }\n",
       "</style>\n",
       "<table border=\"1\" class=\"dataframe\">\n",
       "  <thead>\n",
       "    <tr style=\"text-align: right;\">\n",
       "      <th></th>\n",
       "      <th>Rank</th>\n",
       "      <th>Name</th>\n",
       "      <th>Platform</th>\n",
       "      <th>Year</th>\n",
       "      <th>Genre</th>\n",
       "      <th>Publisher</th>\n",
       "      <th>NA_Sales</th>\n",
       "      <th>EU_Sales</th>\n",
       "      <th>JP_Sales</th>\n",
       "      <th>Other_Sales</th>\n",
       "      <th>Global_Sales</th>\n",
       "    </tr>\n",
       "  </thead>\n",
       "  <tbody>\n",
       "    <tr>\n",
       "      <th>0</th>\n",
       "      <td>1</td>\n",
       "      <td>Wii Sports</td>\n",
       "      <td>Wii</td>\n",
       "      <td>2006</td>\n",
       "      <td>Sports</td>\n",
       "      <td>Nintendo</td>\n",
       "      <td>41.49</td>\n",
       "      <td>29.02</td>\n",
       "      <td>3.77</td>\n",
       "      <td>8.46</td>\n",
       "      <td>82.74</td>\n",
       "    </tr>\n",
       "    <tr>\n",
       "      <th>1</th>\n",
       "      <td>2</td>\n",
       "      <td>Super Mario Bros.</td>\n",
       "      <td>NES</td>\n",
       "      <td>1985</td>\n",
       "      <td>Platform</td>\n",
       "      <td>Nintendo</td>\n",
       "      <td>29.08</td>\n",
       "      <td>3.58</td>\n",
       "      <td>6.81</td>\n",
       "      <td>0.77</td>\n",
       "      <td>40.24</td>\n",
       "    </tr>\n",
       "    <tr>\n",
       "      <th>2</th>\n",
       "      <td>3</td>\n",
       "      <td>Mario Kart Wii</td>\n",
       "      <td>Wii</td>\n",
       "      <td>2008</td>\n",
       "      <td>Racing</td>\n",
       "      <td>Nintendo</td>\n",
       "      <td>15.85</td>\n",
       "      <td>12.88</td>\n",
       "      <td>3.79</td>\n",
       "      <td>3.31</td>\n",
       "      <td>35.82</td>\n",
       "    </tr>\n",
       "    <tr>\n",
       "      <th>3</th>\n",
       "      <td>4</td>\n",
       "      <td>Wii Sports Resort</td>\n",
       "      <td>Wii</td>\n",
       "      <td>2009</td>\n",
       "      <td>Sports</td>\n",
       "      <td>Nintendo</td>\n",
       "      <td>15.75</td>\n",
       "      <td>11.01</td>\n",
       "      <td>3.28</td>\n",
       "      <td>2.96</td>\n",
       "      <td>33.00</td>\n",
       "    </tr>\n",
       "    <tr>\n",
       "      <th>4</th>\n",
       "      <td>5</td>\n",
       "      <td>Pokemon Red/Pokemon Blue</td>\n",
       "      <td>GB</td>\n",
       "      <td>1996</td>\n",
       "      <td>Role-Playing</td>\n",
       "      <td>Nintendo</td>\n",
       "      <td>11.27</td>\n",
       "      <td>8.89</td>\n",
       "      <td>10.22</td>\n",
       "      <td>1.00</td>\n",
       "      <td>31.37</td>\n",
       "    </tr>\n",
       "    <tr>\n",
       "      <th>...</th>\n",
       "      <td>...</td>\n",
       "      <td>...</td>\n",
       "      <td>...</td>\n",
       "      <td>...</td>\n",
       "      <td>...</td>\n",
       "      <td>...</td>\n",
       "      <td>...</td>\n",
       "      <td>...</td>\n",
       "      <td>...</td>\n",
       "      <td>...</td>\n",
       "      <td>...</td>\n",
       "    </tr>\n",
       "    <tr>\n",
       "      <th>16593</th>\n",
       "      <td>16596</td>\n",
       "      <td>Woody Woodpecker in Crazy Castle 5</td>\n",
       "      <td>GBA</td>\n",
       "      <td>2002</td>\n",
       "      <td>Platform</td>\n",
       "      <td>Kemco</td>\n",
       "      <td>0.01</td>\n",
       "      <td>0.00</td>\n",
       "      <td>0.00</td>\n",
       "      <td>0.00</td>\n",
       "      <td>0.01</td>\n",
       "    </tr>\n",
       "    <tr>\n",
       "      <th>16594</th>\n",
       "      <td>16597</td>\n",
       "      <td>Men in Black II: Alien Escape</td>\n",
       "      <td>GC</td>\n",
       "      <td>2003</td>\n",
       "      <td>Shooter</td>\n",
       "      <td>Infogrames</td>\n",
       "      <td>0.01</td>\n",
       "      <td>0.00</td>\n",
       "      <td>0.00</td>\n",
       "      <td>0.00</td>\n",
       "      <td>0.01</td>\n",
       "    </tr>\n",
       "    <tr>\n",
       "      <th>16595</th>\n",
       "      <td>16598</td>\n",
       "      <td>SCORE International Baja 1000: The Official Game</td>\n",
       "      <td>PS2</td>\n",
       "      <td>2008</td>\n",
       "      <td>Racing</td>\n",
       "      <td>Activision</td>\n",
       "      <td>0.00</td>\n",
       "      <td>0.00</td>\n",
       "      <td>0.00</td>\n",
       "      <td>0.00</td>\n",
       "      <td>0.01</td>\n",
       "    </tr>\n",
       "    <tr>\n",
       "      <th>16596</th>\n",
       "      <td>16599</td>\n",
       "      <td>Know How 2</td>\n",
       "      <td>DS</td>\n",
       "      <td>2010</td>\n",
       "      <td>Puzzle</td>\n",
       "      <td>7G//AMES</td>\n",
       "      <td>0.00</td>\n",
       "      <td>0.01</td>\n",
       "      <td>0.00</td>\n",
       "      <td>0.00</td>\n",
       "      <td>0.01</td>\n",
       "    </tr>\n",
       "    <tr>\n",
       "      <th>16597</th>\n",
       "      <td>16600</td>\n",
       "      <td>Spirits &amp; Spells</td>\n",
       "      <td>GBA</td>\n",
       "      <td>2003</td>\n",
       "      <td>Platform</td>\n",
       "      <td>Wanadoo</td>\n",
       "      <td>0.01</td>\n",
       "      <td>0.00</td>\n",
       "      <td>0.00</td>\n",
       "      <td>0.00</td>\n",
       "      <td>0.01</td>\n",
       "    </tr>\n",
       "  </tbody>\n",
       "</table>\n",
       "<p>16598 rows × 11 columns</p>\n",
       "</div>"
      ],
      "text/plain": [
       "        Rank                                              Name Platform  Year  \\\n",
       "0          1                                        Wii Sports      Wii  2006   \n",
       "1          2                                 Super Mario Bros.      NES  1985   \n",
       "2          3                                    Mario Kart Wii      Wii  2008   \n",
       "3          4                                 Wii Sports Resort      Wii  2009   \n",
       "4          5                          Pokemon Red/Pokemon Blue       GB  1996   \n",
       "...      ...                                               ...      ...   ...   \n",
       "16593  16596                Woody Woodpecker in Crazy Castle 5      GBA  2002   \n",
       "16594  16597                     Men in Black II: Alien Escape       GC  2003   \n",
       "16595  16598  SCORE International Baja 1000: The Official Game      PS2  2008   \n",
       "16596  16599                                        Know How 2       DS  2010   \n",
       "16597  16600                                  Spirits & Spells      GBA  2003   \n",
       "\n",
       "              Genre   Publisher  NA_Sales  EU_Sales  JP_Sales  Other_Sales  \\\n",
       "0            Sports    Nintendo     41.49     29.02      3.77         8.46   \n",
       "1          Platform    Nintendo     29.08      3.58      6.81         0.77   \n",
       "2            Racing    Nintendo     15.85     12.88      3.79         3.31   \n",
       "3            Sports    Nintendo     15.75     11.01      3.28         2.96   \n",
       "4      Role-Playing    Nintendo     11.27      8.89     10.22         1.00   \n",
       "...             ...         ...       ...       ...       ...          ...   \n",
       "16593      Platform       Kemco      0.01      0.00      0.00         0.00   \n",
       "16594       Shooter  Infogrames      0.01      0.00      0.00         0.00   \n",
       "16595        Racing  Activision      0.00      0.00      0.00         0.00   \n",
       "16596        Puzzle    7G//AMES      0.00      0.01      0.00         0.00   \n",
       "16597      Platform     Wanadoo      0.01      0.00      0.00         0.00   \n",
       "\n",
       "       Global_Sales  \n",
       "0             82.74  \n",
       "1             40.24  \n",
       "2             35.82  \n",
       "3             33.00  \n",
       "4             31.37  \n",
       "...             ...  \n",
       "16593          0.01  \n",
       "16594          0.01  \n",
       "16595          0.01  \n",
       "16596          0.01  \n",
       "16597          0.01  \n",
       "\n",
       "[16598 rows x 11 columns]"
      ]
     },
     "execution_count": 33,
     "metadata": {},
     "output_type": "execute_result"
    }
   ],
   "source": [
    "dane = pd.read_csv(\"vgsales.csv\") #wczytuję plik z danymi do zmiennej 'dane'\n",
    "dane #wyświetlam dane, żeby wstępnie zobaczyć co się znajduje w zbiorze"
   ]
  },
  {
   "cell_type": "code",
   "execution_count": 34,
   "metadata": {},
   "outputs": [
    {
     "data": {
      "text/html": [
       "<div>\n",
       "<style scoped>\n",
       "    .dataframe tbody tr th:only-of-type {\n",
       "        vertical-align: middle;\n",
       "    }\n",
       "\n",
       "    .dataframe tbody tr th {\n",
       "        vertical-align: top;\n",
       "    }\n",
       "\n",
       "    .dataframe thead th {\n",
       "        text-align: right;\n",
       "    }\n",
       "</style>\n",
       "<table border=\"1\" class=\"dataframe\">\n",
       "  <thead>\n",
       "    <tr style=\"text-align: right;\">\n",
       "      <th></th>\n",
       "      <th>Name</th>\n",
       "      <th>Platform</th>\n",
       "      <th>Year</th>\n",
       "      <th>Genre</th>\n",
       "      <th>Publisher</th>\n",
       "      <th>NA_Sales</th>\n",
       "      <th>EU_Sales</th>\n",
       "      <th>JP_Sales</th>\n",
       "      <th>Other_Sales</th>\n",
       "      <th>Global_Sales</th>\n",
       "    </tr>\n",
       "  </thead>\n",
       "  <tbody>\n",
       "    <tr>\n",
       "      <th>0</th>\n",
       "      <td>Wii Sports</td>\n",
       "      <td>Wii</td>\n",
       "      <td>2006</td>\n",
       "      <td>Sports</td>\n",
       "      <td>Nintendo</td>\n",
       "      <td>41.49</td>\n",
       "      <td>29.02</td>\n",
       "      <td>3.77</td>\n",
       "      <td>8.46</td>\n",
       "      <td>82.74</td>\n",
       "    </tr>\n",
       "    <tr>\n",
       "      <th>1</th>\n",
       "      <td>Super Mario Bros.</td>\n",
       "      <td>NES</td>\n",
       "      <td>1985</td>\n",
       "      <td>Platform</td>\n",
       "      <td>Nintendo</td>\n",
       "      <td>29.08</td>\n",
       "      <td>3.58</td>\n",
       "      <td>6.81</td>\n",
       "      <td>0.77</td>\n",
       "      <td>40.24</td>\n",
       "    </tr>\n",
       "    <tr>\n",
       "      <th>2</th>\n",
       "      <td>Mario Kart Wii</td>\n",
       "      <td>Wii</td>\n",
       "      <td>2008</td>\n",
       "      <td>Racing</td>\n",
       "      <td>Nintendo</td>\n",
       "      <td>15.85</td>\n",
       "      <td>12.88</td>\n",
       "      <td>3.79</td>\n",
       "      <td>3.31</td>\n",
       "      <td>35.82</td>\n",
       "    </tr>\n",
       "    <tr>\n",
       "      <th>3</th>\n",
       "      <td>Wii Sports Resort</td>\n",
       "      <td>Wii</td>\n",
       "      <td>2009</td>\n",
       "      <td>Sports</td>\n",
       "      <td>Nintendo</td>\n",
       "      <td>15.75</td>\n",
       "      <td>11.01</td>\n",
       "      <td>3.28</td>\n",
       "      <td>2.96</td>\n",
       "      <td>33.00</td>\n",
       "    </tr>\n",
       "    <tr>\n",
       "      <th>4</th>\n",
       "      <td>Pokemon Red/Pokemon Blue</td>\n",
       "      <td>GB</td>\n",
       "      <td>1996</td>\n",
       "      <td>Role-Playing</td>\n",
       "      <td>Nintendo</td>\n",
       "      <td>11.27</td>\n",
       "      <td>8.89</td>\n",
       "      <td>10.22</td>\n",
       "      <td>1.00</td>\n",
       "      <td>31.37</td>\n",
       "    </tr>\n",
       "    <tr>\n",
       "      <th>...</th>\n",
       "      <td>...</td>\n",
       "      <td>...</td>\n",
       "      <td>...</td>\n",
       "      <td>...</td>\n",
       "      <td>...</td>\n",
       "      <td>...</td>\n",
       "      <td>...</td>\n",
       "      <td>...</td>\n",
       "      <td>...</td>\n",
       "      <td>...</td>\n",
       "    </tr>\n",
       "    <tr>\n",
       "      <th>16593</th>\n",
       "      <td>Woody Woodpecker in Crazy Castle 5</td>\n",
       "      <td>GBA</td>\n",
       "      <td>2002</td>\n",
       "      <td>Platform</td>\n",
       "      <td>Kemco</td>\n",
       "      <td>0.01</td>\n",
       "      <td>0.00</td>\n",
       "      <td>0.00</td>\n",
       "      <td>0.00</td>\n",
       "      <td>0.01</td>\n",
       "    </tr>\n",
       "    <tr>\n",
       "      <th>16594</th>\n",
       "      <td>Men in Black II: Alien Escape</td>\n",
       "      <td>GC</td>\n",
       "      <td>2003</td>\n",
       "      <td>Shooter</td>\n",
       "      <td>Infogrames</td>\n",
       "      <td>0.01</td>\n",
       "      <td>0.00</td>\n",
       "      <td>0.00</td>\n",
       "      <td>0.00</td>\n",
       "      <td>0.01</td>\n",
       "    </tr>\n",
       "    <tr>\n",
       "      <th>16595</th>\n",
       "      <td>SCORE International Baja 1000: The Official Game</td>\n",
       "      <td>PS2</td>\n",
       "      <td>2008</td>\n",
       "      <td>Racing</td>\n",
       "      <td>Activision</td>\n",
       "      <td>0.00</td>\n",
       "      <td>0.00</td>\n",
       "      <td>0.00</td>\n",
       "      <td>0.00</td>\n",
       "      <td>0.01</td>\n",
       "    </tr>\n",
       "    <tr>\n",
       "      <th>16596</th>\n",
       "      <td>Know How 2</td>\n",
       "      <td>DS</td>\n",
       "      <td>2010</td>\n",
       "      <td>Puzzle</td>\n",
       "      <td>7G//AMES</td>\n",
       "      <td>0.00</td>\n",
       "      <td>0.01</td>\n",
       "      <td>0.00</td>\n",
       "      <td>0.00</td>\n",
       "      <td>0.01</td>\n",
       "    </tr>\n",
       "    <tr>\n",
       "      <th>16597</th>\n",
       "      <td>Spirits &amp; Spells</td>\n",
       "      <td>GBA</td>\n",
       "      <td>2003</td>\n",
       "      <td>Platform</td>\n",
       "      <td>Wanadoo</td>\n",
       "      <td>0.01</td>\n",
       "      <td>0.00</td>\n",
       "      <td>0.00</td>\n",
       "      <td>0.00</td>\n",
       "      <td>0.01</td>\n",
       "    </tr>\n",
       "  </tbody>\n",
       "</table>\n",
       "<p>16289 rows × 10 columns</p>\n",
       "</div>"
      ],
      "text/plain": [
       "                                                   Name Platform  Year  \\\n",
       "0                                            Wii Sports      Wii  2006   \n",
       "1                                     Super Mario Bros.      NES  1985   \n",
       "2                                        Mario Kart Wii      Wii  2008   \n",
       "3                                     Wii Sports Resort      Wii  2009   \n",
       "4                              Pokemon Red/Pokemon Blue       GB  1996   \n",
       "...                                                 ...      ...   ...   \n",
       "16593                Woody Woodpecker in Crazy Castle 5      GBA  2002   \n",
       "16594                     Men in Black II: Alien Escape       GC  2003   \n",
       "16595  SCORE International Baja 1000: The Official Game      PS2  2008   \n",
       "16596                                        Know How 2       DS  2010   \n",
       "16597                                  Spirits & Spells      GBA  2003   \n",
       "\n",
       "              Genre   Publisher  NA_Sales  EU_Sales  JP_Sales  Other_Sales  \\\n",
       "0            Sports    Nintendo     41.49     29.02      3.77         8.46   \n",
       "1          Platform    Nintendo     29.08      3.58      6.81         0.77   \n",
       "2            Racing    Nintendo     15.85     12.88      3.79         3.31   \n",
       "3            Sports    Nintendo     15.75     11.01      3.28         2.96   \n",
       "4      Role-Playing    Nintendo     11.27      8.89     10.22         1.00   \n",
       "...             ...         ...       ...       ...       ...          ...   \n",
       "16593      Platform       Kemco      0.01      0.00      0.00         0.00   \n",
       "16594       Shooter  Infogrames      0.01      0.00      0.00         0.00   \n",
       "16595        Racing  Activision      0.00      0.00      0.00         0.00   \n",
       "16596        Puzzle    7G//AMES      0.00      0.01      0.00         0.00   \n",
       "16597      Platform     Wanadoo      0.01      0.00      0.00         0.00   \n",
       "\n",
       "       Global_Sales  \n",
       "0             82.74  \n",
       "1             40.24  \n",
       "2             35.82  \n",
       "3             33.00  \n",
       "4             31.37  \n",
       "...             ...  \n",
       "16593          0.01  \n",
       "16594          0.01  \n",
       "16595          0.01  \n",
       "16596          0.01  \n",
       "16597          0.01  \n",
       "\n",
       "[16289 rows x 10 columns]"
      ]
     },
     "execution_count": 34,
     "metadata": {},
     "output_type": "execute_result"
    }
   ],
   "source": [
    "#przytępuję do czyszczenia zbioru:\n",
    "dane = dane.dropna() #usuwam braki danych 'NaN'\n",
    "dane = dane.drop_duplicates() #usuwam wiersze, które są swoimi duplikatami, jeśli jakieś występują\n",
    "dane.drop(columns = 'Rank', inplace = True) #usuwam kolumnę \"Rank\", ponieważ stanowi jedynie kopię indeksowania wierszów, jest efektem sortowania zbioru pod względem sprzedaży globalnej \n",
    "                                            #i raczej nie będziemy jej używać\n",
    "dane #ponownie wyświetlam dane, żeby zobaczyć jak po czyszczeniu wygląda zbiór, tzn. ile danych zostało"
   ]
  },
  {
   "cell_type": "markdown",
   "metadata": {},
   "source": [
    "Jak widać powyżej, po wyczyszczeniu zbiór dalej posiada on bardzo dużo danych i wygląda obiecująco zatem przystępuję to analizy zbioru"
   ]
  },
  {
   "cell_type": "code",
   "execution_count": 35,
   "metadata": {},
   "outputs": [
    {
     "name": "stdout",
     "output_type": "stream",
     "text": [
      "<class 'pandas.core.frame.DataFrame'>\n",
      "Int64Index: 16289 entries, 0 to 16597\n",
      "Data columns (total 10 columns):\n",
      " #   Column        Non-Null Count  Dtype  \n",
      "---  ------        --------------  -----  \n",
      " 0   Name          16289 non-null  object \n",
      " 1   Platform      16289 non-null  object \n",
      " 2   Year          16289 non-null  object \n",
      " 3   Genre         16289 non-null  object \n",
      " 4   Publisher     16289 non-null  object \n",
      " 5   NA_Sales      16289 non-null  float64\n",
      " 6   EU_Sales      16289 non-null  float64\n",
      " 7   JP_Sales      16289 non-null  float64\n",
      " 8   Other_Sales   16289 non-null  float64\n",
      " 9   Global_Sales  16289 non-null  float64\n",
      "dtypes: float64(5), object(5)\n",
      "memory usage: 1.4+ MB\n"
     ]
    }
   ],
   "source": [
    "dane.info() #sprawdzam podstawowe informacje na temat zmiennych, najbardziej interesuje mnie typ każdej zmiennej"
   ]
  },
  {
   "cell_type": "code",
   "execution_count": 36,
   "metadata": {},
   "outputs": [
    {
     "name": "stdout",
     "output_type": "stream",
     "text": [
      "<class 'pandas.core.frame.DataFrame'>\n",
      "Int64Index: 16289 entries, 0 to 16597\n",
      "Data columns (total 10 columns):\n",
      " #   Column        Non-Null Count  Dtype   \n",
      "---  ------        --------------  -----   \n",
      " 0   Name          16289 non-null  object  \n",
      " 1   Platform      16289 non-null  category\n",
      " 2   Year          16289 non-null  int64   \n",
      " 3   Genre         16289 non-null  category\n",
      " 4   Publisher     16289 non-null  category\n",
      " 5   NA_Sales      16289 non-null  float64 \n",
      " 6   EU_Sales      16289 non-null  float64 \n",
      " 7   JP_Sales      16289 non-null  float64 \n",
      " 8   Other_Sales   16289 non-null  float64 \n",
      " 9   Global_Sales  16289 non-null  float64 \n",
      "dtypes: category(3), float64(5), int64(1), object(1)\n",
      "memory usage: 1.1+ MB\n"
     ]
    }
   ],
   "source": [
    "#poniżej zamieniam typy zmiennych automatycznie wczytane jako object na odpowiednie typy, tzn. rok zamieniam na int64 a zmienne kategorialne na typ category\n",
    "dane['Year'] = dane['Year'].astype(np.int64)\n",
    "dane['Platform'] = dane['Platform'].astype('category')\n",
    "dane['Genre'] = dane['Genre'].astype('category')\n",
    "dane['Publisher'] = dane['Publisher'].astype('category')\n",
    "dane.info() #ponownie wyświetlam informacje o zmiennych, żeby sprawdzić, czy zmiana typów przebiegła pomyślnie"
   ]
  },
  {
   "cell_type": "markdown",
   "metadata": {},
   "source": [
    "Wydaje mi się, że zbiór jest gotowy do analizy statycznej i zaczynam od opisu statystycznego zmiennych:"
   ]
  },
  {
   "cell_type": "code",
   "execution_count": 37,
   "metadata": {},
   "outputs": [
    {
     "data": {
      "text/html": [
       "<div>\n",
       "<style scoped>\n",
       "    .dataframe tbody tr th:only-of-type {\n",
       "        vertical-align: middle;\n",
       "    }\n",
       "\n",
       "    .dataframe tbody tr th {\n",
       "        vertical-align: top;\n",
       "    }\n",
       "\n",
       "    .dataframe thead th {\n",
       "        text-align: right;\n",
       "    }\n",
       "</style>\n",
       "<table border=\"1\" class=\"dataframe\">\n",
       "  <thead>\n",
       "    <tr style=\"text-align: right;\">\n",
       "      <th></th>\n",
       "      <th>Name</th>\n",
       "      <th>Platform</th>\n",
       "      <th>Year</th>\n",
       "      <th>Genre</th>\n",
       "      <th>Publisher</th>\n",
       "      <th>NA_Sales</th>\n",
       "      <th>EU_Sales</th>\n",
       "      <th>JP_Sales</th>\n",
       "      <th>Other_Sales</th>\n",
       "      <th>Global_Sales</th>\n",
       "    </tr>\n",
       "  </thead>\n",
       "  <tbody>\n",
       "    <tr>\n",
       "      <th>0</th>\n",
       "      <td>Need for Speed: Most Wanted</td>\n",
       "      <td>DS</td>\n",
       "      <td>2009</td>\n",
       "      <td>Action</td>\n",
       "      <td>Electronic Arts</td>\n",
       "      <td>0.0</td>\n",
       "      <td>0.0</td>\n",
       "      <td>0.0</td>\n",
       "      <td>0.0</td>\n",
       "      <td>0.02</td>\n",
       "    </tr>\n",
       "  </tbody>\n",
       "</table>\n",
       "</div>"
      ],
      "text/plain": [
       "                          Name Platform  Year   Genre        Publisher  \\\n",
       "0  Need for Speed: Most Wanted       DS  2009  Action  Electronic Arts   \n",
       "\n",
       "   NA_Sales  EU_Sales  JP_Sales  Other_Sales  Global_Sales  \n",
       "0       0.0       0.0       0.0          0.0          0.02  "
      ]
     },
     "execution_count": 37,
     "metadata": {},
     "output_type": "execute_result"
    }
   ],
   "source": [
    "dane.mode() #wyznaczam dominante każdej zmiennej"
   ]
  },
  {
   "cell_type": "code",
   "execution_count": 38,
   "metadata": {},
   "outputs": [
    {
     "name": "stdout",
     "output_type": "stream",
     "text": [
      "Publisher : 576\n",
      "Genre : 12\n",
      "Platform : 31\n"
     ]
    }
   ],
   "source": [
    "for zmienna in ['Publisher','Genre','Platform']:\n",
    "    print(zmienna,':',len(dane[zmienna].unique())) #wyzmaczam liczbę kategorii dla wszystkich zmiennych kategorialnych"
   ]
  },
  {
   "cell_type": "code",
   "execution_count": 39,
   "metadata": {},
   "outputs": [
    {
     "data": {
      "text/html": [
       "<div>\n",
       "<style scoped>\n",
       "    .dataframe tbody tr th:only-of-type {\n",
       "        vertical-align: middle;\n",
       "    }\n",
       "\n",
       "    .dataframe tbody tr th {\n",
       "        vertical-align: top;\n",
       "    }\n",
       "\n",
       "    .dataframe thead th {\n",
       "        text-align: right;\n",
       "    }\n",
       "</style>\n",
       "<table border=\"1\" class=\"dataframe\">\n",
       "  <thead>\n",
       "    <tr style=\"text-align: right;\">\n",
       "      <th></th>\n",
       "      <th>Year</th>\n",
       "      <th>NA_Sales</th>\n",
       "      <th>EU_Sales</th>\n",
       "      <th>JP_Sales</th>\n",
       "      <th>Other_Sales</th>\n",
       "      <th>Global_Sales</th>\n",
       "    </tr>\n",
       "  </thead>\n",
       "  <tbody>\n",
       "    <tr>\n",
       "      <th>count</th>\n",
       "      <td>16289.000000</td>\n",
       "      <td>16289.000000</td>\n",
       "      <td>16289.000000</td>\n",
       "      <td>16289.000000</td>\n",
       "      <td>16289.000000</td>\n",
       "      <td>16289.000000</td>\n",
       "    </tr>\n",
       "    <tr>\n",
       "      <th>mean</th>\n",
       "      <td>2006.405304</td>\n",
       "      <td>0.264763</td>\n",
       "      <td>0.147035</td>\n",
       "      <td>0.078862</td>\n",
       "      <td>0.048432</td>\n",
       "      <td>0.540969</td>\n",
       "    </tr>\n",
       "    <tr>\n",
       "      <th>std</th>\n",
       "      <td>5.832700</td>\n",
       "      <td>0.822388</td>\n",
       "      <td>0.509101</td>\n",
       "      <td>0.311901</td>\n",
       "      <td>0.190094</td>\n",
       "      <td>1.567432</td>\n",
       "    </tr>\n",
       "    <tr>\n",
       "      <th>min</th>\n",
       "      <td>1980.000000</td>\n",
       "      <td>0.000000</td>\n",
       "      <td>0.000000</td>\n",
       "      <td>0.000000</td>\n",
       "      <td>0.000000</td>\n",
       "      <td>0.010000</td>\n",
       "    </tr>\n",
       "    <tr>\n",
       "      <th>25%</th>\n",
       "      <td>2003.000000</td>\n",
       "      <td>0.000000</td>\n",
       "      <td>0.000000</td>\n",
       "      <td>0.000000</td>\n",
       "      <td>0.000000</td>\n",
       "      <td>0.060000</td>\n",
       "    </tr>\n",
       "    <tr>\n",
       "      <th>50%</th>\n",
       "      <td>2007.000000</td>\n",
       "      <td>0.080000</td>\n",
       "      <td>0.020000</td>\n",
       "      <td>0.000000</td>\n",
       "      <td>0.010000</td>\n",
       "      <td>0.170000</td>\n",
       "    </tr>\n",
       "    <tr>\n",
       "      <th>75%</th>\n",
       "      <td>2010.000000</td>\n",
       "      <td>0.240000</td>\n",
       "      <td>0.110000</td>\n",
       "      <td>0.040000</td>\n",
       "      <td>0.040000</td>\n",
       "      <td>0.480000</td>\n",
       "    </tr>\n",
       "    <tr>\n",
       "      <th>max</th>\n",
       "      <td>2020.000000</td>\n",
       "      <td>41.490000</td>\n",
       "      <td>29.020000</td>\n",
       "      <td>10.220000</td>\n",
       "      <td>10.570000</td>\n",
       "      <td>82.740000</td>\n",
       "    </tr>\n",
       "  </tbody>\n",
       "</table>\n",
       "</div>"
      ],
      "text/plain": [
       "               Year      NA_Sales      EU_Sales      JP_Sales   Other_Sales  \\\n",
       "count  16289.000000  16289.000000  16289.000000  16289.000000  16289.000000   \n",
       "mean    2006.405304      0.264763      0.147035      0.078862      0.048432   \n",
       "std        5.832700      0.822388      0.509101      0.311901      0.190094   \n",
       "min     1980.000000      0.000000      0.000000      0.000000      0.000000   \n",
       "25%     2003.000000      0.000000      0.000000      0.000000      0.000000   \n",
       "50%     2007.000000      0.080000      0.020000      0.000000      0.010000   \n",
       "75%     2010.000000      0.240000      0.110000      0.040000      0.040000   \n",
       "max     2020.000000     41.490000     29.020000     10.220000     10.570000   \n",
       "\n",
       "       Global_Sales  \n",
       "count  16289.000000  \n",
       "mean       0.540969  \n",
       "std        1.567432  \n",
       "min        0.010000  \n",
       "25%        0.060000  \n",
       "50%        0.170000  \n",
       "75%        0.480000  \n",
       "max       82.740000  "
      ]
     },
     "execution_count": 39,
     "metadata": {},
     "output_type": "execute_result"
    }
   ],
   "source": [
    "dane.describe() #wyznaczam podstawowe statystyki dla zmiennych ilościowych"
   ]
  },
  {
   "cell_type": "markdown",
   "metadata": {},
   "source": [
    "Z kwartyli widać, że odchylenie ćwartkowe wynosi kolejno: 3.5 roku, 0.12 mln, 0.055 mln, 0.02 mln, 0.02 mln, 0.21 mln"
   ]
  },
  {
   "cell_type": "code",
   "execution_count": 40,
   "metadata": {},
   "outputs": [
    {
     "data": {
      "text/plain": [
       "Year            -1.003365\n",
       "NA_Sales        18.749008\n",
       "EU_Sales        18.802380\n",
       "JP_Sales        11.122988\n",
       "Other_Sales     24.101327\n",
       "Global_Sales    17.303441\n",
       "dtype: float64"
      ]
     },
     "execution_count": 40,
     "metadata": {},
     "output_type": "execute_result"
    }
   ],
   "source": [
    "dane.skew() #wyznaczam skośność dla wszystkich zmiennych ilościowych"
   ]
  },
  {
   "cell_type": "code",
   "execution_count": 41,
   "metadata": {},
   "outputs": [
    {
     "data": {
      "text/plain": [
       "0.019190594380336108"
      ]
     },
     "execution_count": 41,
     "metadata": {},
     "output_type": "execute_result"
    }
   ],
   "source": [
    "n = len(dane.Year)\n",
    "se_skew = ((6*n*(n-1))/((n-2)*(n+1)*(n+3)))**0.5 #obliczam standardowy błąd skosności; ponieważ wszystkie zmienne mają taką samą liczbność to, dla każdej obowiązuje ten sam błąd\n",
    "se_skew"
   ]
  },
  {
   "cell_type": "code",
   "execution_count": 42,
   "metadata": {},
   "outputs": [
    {
     "data": {
      "text/plain": [
       "Year               1.844839\n",
       "NA_Sales         643.206999\n",
       "EU_Sales         747.817232\n",
       "JP_Sales         191.175164\n",
       "Other_Sales     1011.863537\n",
       "Global_Sales     595.942336\n",
       "dtype: float64"
      ]
     },
     "execution_count": 42,
     "metadata": {},
     "output_type": "execute_result"
    }
   ],
   "source": [
    "dane.kurtosis() #wyznaczam kurtozę dla wszystkich zmiennych ilościowych"
   ]
  },
  {
   "cell_type": "code",
   "execution_count": 43,
   "metadata": {},
   "outputs": [
    {
     "data": {
      "text/plain": [
       "0.038384723934765254"
      ]
     },
     "execution_count": 43,
     "metadata": {},
     "output_type": "execute_result"
    }
   ],
   "source": [
    "se_kurt = 2*se_skew*(((n**2-1)/((n-3)*n-5))**0.5) #obliczam standardowy błąd kurtozy; ponieważ wszystkie zmienne mają taką samą liczbność, to dla każdej obowiązuje ten sam błąd\n",
    "se_kurt"
   ]
  },
  {
   "cell_type": "markdown",
   "metadata": {},
   "source": [
    "Wszystkie informacje potrzebne do opisu zmiennych zostały policzone zatem przystępuję do analiz i wizualizacji"
   ]
  },
  {
   "cell_type": "code",
   "execution_count": 44,
   "metadata": {},
   "outputs": [
    {
     "data": {
      "image/png": "[encoded data removed]",
      "text/plain": [
       "<Figure size 576x396 with 1 Axes>"
      ]
     },
     "metadata": {},
     "output_type": "display_data"
    }
   ],
   "source": [
    "#wizualizacja rozkładu zmiennej 'Publisher'\n",
    "pub = dane.Publisher.value_counts() #pod zmienną 'pub' zapisuję liczbę wystąpień każdego wydawcy, co oznacza liczbę wydanych przez nich gier\n",
    "pub = dict(pub) #zamieniam 'pub' na słownik, żeby mieć dostęp do indeksów\n",
    "plt.bar(list(pub.keys())[:20],list(pub.values())[:20]) #pokazuję tylko 20 pierwszych wydawców dla lepszej czytelności wykresu, ponieważ wszystkich wydawców jest 576 i wykres ze wszystkimi byłby bardzo                                                                    #niepraktyczny, żeby to zrobić dodatkowo zamieniam keys i values na listy, żebym mógł użyć slicingu\n",
    "\n",
    "plt.xlabel('Wydawca') #na osi x umieściłem nazwy wydawców\n",
    "plt.ylabel('Liczba gier [-]') #na osi y umieściłem liczbę wystąpień każdego w danych, czyli liczbę gier jakie wydał\n",
    "plt.xticks(rotation=90) #ustawiam obrót etykiet na osi x, ponieważ są długie i bez niego nachodzą na siebie nawzajem, co czyni wykres nieczytelnym\n",
    "plt.show()"
   ]
  },
  {
   "cell_type": "code",
   "execution_count": 45,
   "metadata": {},
   "outputs": [
    {
     "data": {
      "image/png": "[encoded data removed]",
      "text/plain": [
       "<Figure size 576x396 with 1 Axes>"
      ]
     },
     "metadata": {},
     "output_type": "display_data"
    }
   ],
   "source": [
    "#wizualizacja zmiennej 'Genre'\n",
    "gen = dane.Genre.value_counts() #pod zmienną 'gen' zapisuję liczbę wystąpień każdego gatunku, co oznacza liczbę gier w danym gatunku\n",
    "gen_dict = dict(gen) #wyżej wyjaśniłem dlaczego zamieniam tą zmienną na słownik\n",
    "plt.bar(gen_dict.keys(),gen_dict.values())\n",
    "plt.xticks(rotation=70) #obracam etykiety na osi x z tego samego powodu co przy zmiennej 'Publisher'\n",
    "plt.xlabel('Gatunek')\n",
    "plt.ylabel('Liczba gier [-]')\n",
    "plt.show()"
   ]
  },
  {
   "cell_type": "code",
   "execution_count": 46,
   "metadata": {},
   "outputs": [
    {
     "data": {
      "image/png": "[encoded data removed]",
      "text/plain": [
       "<Figure size 576x396 with 1 Axes>"
      ]
     },
     "metadata": {},
     "output_type": "display_data"
    }
   ],
   "source": [
    "#wizualizacja zmiennej 'Platform'\n",
    "#poniżej dzieje się tosamo co przy wizualizacji poprzednich zmiennych\n",
    "plat = dane.Platform.value_counts() #w zmiennej 'plat' zapisałem liczbę wystąpień każdej platformy, co oznacza liczbę gier wydanych na daną platformę\n",
    "plat = dict(plat)\n",
    "plt.bar(plat.keys(),plat.values())\n",
    "plt.xlabel('Platforma')\n",
    "plt.ylabel('Liczba gier [-]')\n",
    "plt.xticks(rotation=90)\n",
    "plt.show()"
   ]
  },
  {
   "cell_type": "markdown",
   "metadata": {},
   "source": [
    "To koniec wizualizacji poszzczególnych zmiennych w mojej części i przystępuję do analizy korelacji i testowania różnic"
   ]
  },
  {
   "cell_type": "code",
   "execution_count": 47,
   "metadata": {},
   "outputs": [
    {
     "data": {
      "text/html": [
       "<div>\n",
       "<style scoped>\n",
       "    .dataframe tbody tr th:only-of-type {\n",
       "        vertical-align: middle;\n",
       "    }\n",
       "\n",
       "    .dataframe tbody tr th {\n",
       "        vertical-align: top;\n",
       "    }\n",
       "\n",
       "    .dataframe thead th {\n",
       "        text-align: right;\n",
       "    }\n",
       "</style>\n",
       "<table border=\"1\" class=\"dataframe\">\n",
       "  <thead>\n",
       "    <tr style=\"text-align: right;\">\n",
       "      <th></th>\n",
       "      <th>NA_Sales</th>\n",
       "      <th>EU_Sales</th>\n",
       "      <th>JP_Sales</th>\n",
       "      <th>Other_Sales</th>\n",
       "      <th>Global_Sales</th>\n",
       "    </tr>\n",
       "    <tr>\n",
       "      <th>Year</th>\n",
       "      <th></th>\n",
       "      <th></th>\n",
       "      <th></th>\n",
       "      <th></th>\n",
       "      <th></th>\n",
       "    </tr>\n",
       "  </thead>\n",
       "  <tbody>\n",
       "    <tr>\n",
       "      <th>1980</th>\n",
       "      <td>0.32</td>\n",
       "      <td>0.02</td>\n",
       "      <td>0.00</td>\n",
       "      <td>0.00</td>\n",
       "      <td>0.34</td>\n",
       "    </tr>\n",
       "    <tr>\n",
       "      <th>1981</th>\n",
       "      <td>13.51</td>\n",
       "      <td>0.81</td>\n",
       "      <td>0.00</td>\n",
       "      <td>0.12</td>\n",
       "      <td>14.84</td>\n",
       "    </tr>\n",
       "    <tr>\n",
       "      <th>1982</th>\n",
       "      <td>6.07</td>\n",
       "      <td>0.38</td>\n",
       "      <td>0.00</td>\n",
       "      <td>0.05</td>\n",
       "      <td>6.52</td>\n",
       "    </tr>\n",
       "    <tr>\n",
       "      <th>1983</th>\n",
       "      <td>2.67</td>\n",
       "      <td>0.17</td>\n",
       "      <td>0.00</td>\n",
       "      <td>0.02</td>\n",
       "      <td>2.86</td>\n",
       "    </tr>\n",
       "    <tr>\n",
       "      <th>1984</th>\n",
       "      <td>0.80</td>\n",
       "      <td>0.19</td>\n",
       "      <td>0.83</td>\n",
       "      <td>0.03</td>\n",
       "      <td>1.85</td>\n",
       "    </tr>\n",
       "    <tr>\n",
       "      <th>1985</th>\n",
       "      <td>1.64</td>\n",
       "      <td>0.38</td>\n",
       "      <td>1.44</td>\n",
       "      <td>0.06</td>\n",
       "      <td>3.52</td>\n",
       "    </tr>\n",
       "    <tr>\n",
       "      <th>1986</th>\n",
       "      <td>6.52</td>\n",
       "      <td>1.66</td>\n",
       "      <td>5.31</td>\n",
       "      <td>0.25</td>\n",
       "      <td>13.74</td>\n",
       "    </tr>\n",
       "    <tr>\n",
       "      <th>1987</th>\n",
       "      <td>1.04</td>\n",
       "      <td>0.06</td>\n",
       "      <td>0.00</td>\n",
       "      <td>0.01</td>\n",
       "      <td>1.12</td>\n",
       "    </tr>\n",
       "    <tr>\n",
       "      <th>1988</th>\n",
       "      <td>1.15</td>\n",
       "      <td>0.16</td>\n",
       "      <td>0.42</td>\n",
       "      <td>0.01</td>\n",
       "      <td>1.75</td>\n",
       "    </tr>\n",
       "    <tr>\n",
       "      <th>1989</th>\n",
       "      <td>3.83</td>\n",
       "      <td>0.46</td>\n",
       "      <td>0.31</td>\n",
       "      <td>0.05</td>\n",
       "      <td>4.64</td>\n",
       "    </tr>\n",
       "    <tr>\n",
       "      <th>1990</th>\n",
       "      <td>4.27</td>\n",
       "      <td>0.97</td>\n",
       "      <td>1.01</td>\n",
       "      <td>0.14</td>\n",
       "      <td>6.39</td>\n",
       "    </tr>\n",
       "    <tr>\n",
       "      <th>1991</th>\n",
       "      <td>3.47</td>\n",
       "      <td>1.08</td>\n",
       "      <td>2.06</td>\n",
       "      <td>0.15</td>\n",
       "      <td>6.76</td>\n",
       "    </tr>\n",
       "    <tr>\n",
       "      <th>1992</th>\n",
       "      <td>2.21</td>\n",
       "      <td>0.96</td>\n",
       "      <td>0.54</td>\n",
       "      <td>0.13</td>\n",
       "      <td>3.83</td>\n",
       "    </tr>\n",
       "    <tr>\n",
       "      <th>1993</th>\n",
       "      <td>0.64</td>\n",
       "      <td>0.22</td>\n",
       "      <td>0.92</td>\n",
       "      <td>0.03</td>\n",
       "      <td>1.81</td>\n",
       "    </tr>\n",
       "    <tr>\n",
       "      <th>1994</th>\n",
       "      <td>0.57</td>\n",
       "      <td>0.12</td>\n",
       "      <td>0.84</td>\n",
       "      <td>0.02</td>\n",
       "      <td>1.55</td>\n",
       "    </tr>\n",
       "    <tr>\n",
       "      <th>1995</th>\n",
       "      <td>1.73</td>\n",
       "      <td>0.26</td>\n",
       "      <td>1.26</td>\n",
       "      <td>0.14</td>\n",
       "      <td>3.57</td>\n",
       "    </tr>\n",
       "    <tr>\n",
       "      <th>1996</th>\n",
       "      <td>10.65</td>\n",
       "      <td>5.88</td>\n",
       "      <td>2.62</td>\n",
       "      <td>1.45</td>\n",
       "      <td>20.58</td>\n",
       "    </tr>\n",
       "    <tr>\n",
       "      <th>1997</th>\n",
       "      <td>14.40</td>\n",
       "      <td>9.86</td>\n",
       "      <td>1.90</td>\n",
       "      <td>1.43</td>\n",
       "      <td>27.58</td>\n",
       "    </tr>\n",
       "    <tr>\n",
       "      <th>1998</th>\n",
       "      <td>20.15</td>\n",
       "      <td>11.90</td>\n",
       "      <td>5.55</td>\n",
       "      <td>1.81</td>\n",
       "      <td>39.44</td>\n",
       "    </tr>\n",
       "    <tr>\n",
       "      <th>1999</th>\n",
       "      <td>14.91</td>\n",
       "      <td>8.68</td>\n",
       "      <td>2.90</td>\n",
       "      <td>1.24</td>\n",
       "      <td>27.78</td>\n",
       "    </tr>\n",
       "    <tr>\n",
       "      <th>2000</th>\n",
       "      <td>17.79</td>\n",
       "      <td>10.84</td>\n",
       "      <td>3.74</td>\n",
       "      <td>1.61</td>\n",
       "      <td>34.04</td>\n",
       "    </tr>\n",
       "    <tr>\n",
       "      <th>2001</th>\n",
       "      <td>29.55</td>\n",
       "      <td>19.25</td>\n",
       "      <td>5.99</td>\n",
       "      <td>4.33</td>\n",
       "      <td>59.39</td>\n",
       "    </tr>\n",
       "    <tr>\n",
       "      <th>2002</th>\n",
       "      <td>47.40</td>\n",
       "      <td>27.01</td>\n",
       "      <td>5.10</td>\n",
       "      <td>6.73</td>\n",
       "      <td>86.77</td>\n",
       "    </tr>\n",
       "    <tr>\n",
       "      <th>2003</th>\n",
       "      <td>37.74</td>\n",
       "      <td>20.88</td>\n",
       "      <td>4.19</td>\n",
       "      <td>5.17</td>\n",
       "      <td>67.93</td>\n",
       "    </tr>\n",
       "    <tr>\n",
       "      <th>2004</th>\n",
       "      <td>39.08</td>\n",
       "      <td>16.03</td>\n",
       "      <td>4.82</td>\n",
       "      <td>16.22</td>\n",
       "      <td>76.26</td>\n",
       "    </tr>\n",
       "    <tr>\n",
       "      <th>2005</th>\n",
       "      <td>49.59</td>\n",
       "      <td>21.95</td>\n",
       "      <td>6.32</td>\n",
       "      <td>7.63</td>\n",
       "      <td>85.69</td>\n",
       "    </tr>\n",
       "    <tr>\n",
       "      <th>2006</th>\n",
       "      <td>38.37</td>\n",
       "      <td>14.93</td>\n",
       "      <td>5.77</td>\n",
       "      <td>7.06</td>\n",
       "      <td>66.58</td>\n",
       "    </tr>\n",
       "    <tr>\n",
       "      <th>2007</th>\n",
       "      <td>58.80</td>\n",
       "      <td>25.43</td>\n",
       "      <td>6.13</td>\n",
       "      <td>15.40</td>\n",
       "      <td>106.50</td>\n",
       "    </tr>\n",
       "    <tr>\n",
       "      <th>2008</th>\n",
       "      <td>72.39</td>\n",
       "      <td>39.49</td>\n",
       "      <td>6.00</td>\n",
       "      <td>18.55</td>\n",
       "      <td>136.39</td>\n",
       "    </tr>\n",
       "    <tr>\n",
       "      <th>2009</th>\n",
       "      <td>71.61</td>\n",
       "      <td>39.20</td>\n",
       "      <td>11.96</td>\n",
       "      <td>16.67</td>\n",
       "      <td>139.36</td>\n",
       "    </tr>\n",
       "    <tr>\n",
       "      <th>2010</th>\n",
       "      <td>59.57</td>\n",
       "      <td>35.19</td>\n",
       "      <td>8.58</td>\n",
       "      <td>12.85</td>\n",
       "      <td>117.64</td>\n",
       "    </tr>\n",
       "    <tr>\n",
       "      <th>2011</th>\n",
       "      <td>53.73</td>\n",
       "      <td>41.04</td>\n",
       "      <td>10.82</td>\n",
       "      <td>13.41</td>\n",
       "      <td>118.96</td>\n",
       "    </tr>\n",
       "    <tr>\n",
       "      <th>2012</th>\n",
       "      <td>52.00</td>\n",
       "      <td>41.88</td>\n",
       "      <td>12.30</td>\n",
       "      <td>14.36</td>\n",
       "      <td>122.01</td>\n",
       "    </tr>\n",
       "    <tr>\n",
       "      <th>2013</th>\n",
       "      <td>53.79</td>\n",
       "      <td>44.86</td>\n",
       "      <td>10.88</td>\n",
       "      <td>15.33</td>\n",
       "      <td>125.22</td>\n",
       "    </tr>\n",
       "    <tr>\n",
       "      <th>2014</th>\n",
       "      <td>38.73</td>\n",
       "      <td>39.95</td>\n",
       "      <td>6.50</td>\n",
       "      <td>13.30</td>\n",
       "      <td>99.02</td>\n",
       "    </tr>\n",
       "    <tr>\n",
       "      <th>2015</th>\n",
       "      <td>22.83</td>\n",
       "      <td>24.65</td>\n",
       "      <td>15.85</td>\n",
       "      <td>7.33</td>\n",
       "      <td>70.70</td>\n",
       "    </tr>\n",
       "    <tr>\n",
       "      <th>2016</th>\n",
       "      <td>5.87</td>\n",
       "      <td>6.36</td>\n",
       "      <td>5.78</td>\n",
       "      <td>1.83</td>\n",
       "      <td>19.90</td>\n",
       "    </tr>\n",
       "    <tr>\n",
       "      <th>2017</th>\n",
       "      <td>0.00</td>\n",
       "      <td>0.00</td>\n",
       "      <td>0.01</td>\n",
       "      <td>0.00</td>\n",
       "      <td>0.01</td>\n",
       "    </tr>\n",
       "  </tbody>\n",
       "</table>\n",
       "</div>"
      ],
      "text/plain": [
       "      NA_Sales  EU_Sales  JP_Sales  Other_Sales  Global_Sales\n",
       "Year                                                         \n",
       "1980      0.32      0.02      0.00         0.00          0.34\n",
       "1981     13.51      0.81      0.00         0.12         14.84\n",
       "1982      6.07      0.38      0.00         0.05          6.52\n",
       "1983      2.67      0.17      0.00         0.02          2.86\n",
       "1984      0.80      0.19      0.83         0.03          1.85\n",
       "1985      1.64      0.38      1.44         0.06          3.52\n",
       "1986      6.52      1.66      5.31         0.25         13.74\n",
       "1987      1.04      0.06      0.00         0.01          1.12\n",
       "1988      1.15      0.16      0.42         0.01          1.75\n",
       "1989      3.83      0.46      0.31         0.05          4.64\n",
       "1990      4.27      0.97      1.01         0.14          6.39\n",
       "1991      3.47      1.08      2.06         0.15          6.76\n",
       "1992      2.21      0.96      0.54         0.13          3.83\n",
       "1993      0.64      0.22      0.92         0.03          1.81\n",
       "1994      0.57      0.12      0.84         0.02          1.55\n",
       "1995      1.73      0.26      1.26         0.14          3.57\n",
       "1996     10.65      5.88      2.62         1.45         20.58\n",
       "1997     14.40      9.86      1.90         1.43         27.58\n",
       "1998     20.15     11.90      5.55         1.81         39.44\n",
       "1999     14.91      8.68      2.90         1.24         27.78\n",
       "2000     17.79     10.84      3.74         1.61         34.04\n",
       "2001     29.55     19.25      5.99         4.33         59.39\n",
       "2002     47.40     27.01      5.10         6.73         86.77\n",
       "2003     37.74     20.88      4.19         5.17         67.93\n",
       "2004     39.08     16.03      4.82        16.22         76.26\n",
       "2005     49.59     21.95      6.32         7.63         85.69\n",
       "2006     38.37     14.93      5.77         7.06         66.58\n",
       "2007     58.80     25.43      6.13        15.40        106.50\n",
       "2008     72.39     39.49      6.00        18.55        136.39\n",
       "2009     71.61     39.20     11.96        16.67        139.36\n",
       "2010     59.57     35.19      8.58        12.85        117.64\n",
       "2011     53.73     41.04     10.82        13.41        118.96\n",
       "2012     52.00     41.88     12.30        14.36        122.01\n",
       "2013     53.79     44.86     10.88        15.33        125.22\n",
       "2014     38.73     39.95      6.50        13.30         99.02\n",
       "2015     22.83     24.65     15.85         7.33         70.70\n",
       "2016      5.87      6.36      5.78         1.83         19.90\n",
       "2017      0.00      0.00      0.01         0.00          0.01"
      ]
     },
     "execution_count": 47,
     "metadata": {},
     "output_type": "execute_result"
    }
   ],
   "source": [
    "#zaczynam od sprawdzenia czy ilość sprzedawanych gier akcji istotnie różni się od ilości sprzedawanych gier platformowych na przestrzeni lat i w skali globalnej\n",
    "lata_act = dane[dane.Genre=='Action'].groupby('Year').sum() #pod zmienną 'lata_act' tworzę podzbiór zawierający gry akji - dane[dane.Genre=='Action']\n",
    "                                                            #i obliczam od razu sumę sprzedaży tych gier dla każdego roku - .sum()\n",
    "lata_plat = dane[dane.Genre=='Platform'].groupby('Year').sum() #pod zmienną 'lata_plat' tworzę podzbiór zawierający gry platformowe - dane[dane.Genre=='Platform']\n",
    "                                                                #i obliczam od razu sumę sprzedaży tych gier dla każdego roku - .sum()\n",
    "lata_act #wyświetlam lata_act, żeby przejrzeć jak wygląda podzbiór "
   ]
  },
  {
   "cell_type": "code",
   "execution_count": 48,
   "metadata": {},
   "outputs": [
    {
     "ename": "TypeError",
     "evalue": "float() argument must be a string or a number, not 'dict_keys'",
     "output_type": "error",
     "traceback": [
      "\u001b[0;31m---------------------------------------------------------------------------\u001b[0m",
      "\u001b[0;31mTypeError\u001b[0m                                 Traceback (most recent call last)",
      "\u001b[0;32m<ipython-input-48-f89553e853d5>\u001b[0m in \u001b[0;36m<module>\u001b[0;34m\u001b[0m\n\u001b[1;32m      3\u001b[0m \u001b[0;31m#sprzedaży globalnej\u001b[0m\u001b[0;34m\u001b[0m\u001b[0;34m\u001b[0m\u001b[0;34m\u001b[0m\u001b[0m\n\u001b[1;32m      4\u001b[0m \u001b[0;31m#tworzę wykresy liniowe dla każdego słownika, żeby pokazać przy okazji zmienność sprzedaży gier akcji i platformowych na przestrzeni lat\u001b[0m\u001b[0;34m\u001b[0m\u001b[0;34m\u001b[0m\u001b[0;34m\u001b[0m\u001b[0m\n\u001b[0;32m----> 5\u001b[0;31m \u001b[0mplt\u001b[0m\u001b[0;34m.\u001b[0m\u001b[0mplot\u001b[0m\u001b[0;34m(\u001b[0m\u001b[0mact_dict\u001b[0m\u001b[0;34m.\u001b[0m\u001b[0mkeys\u001b[0m\u001b[0;34m(\u001b[0m\u001b[0;34m)\u001b[0m\u001b[0;34m,\u001b[0m\u001b[0mact_dict\u001b[0m\u001b[0;34m.\u001b[0m\u001b[0mvalues\u001b[0m\u001b[0;34m(\u001b[0m\u001b[0;34m)\u001b[0m\u001b[0;34m,\u001b[0m\u001b[0mlabel\u001b[0m\u001b[0;34m=\u001b[0m\u001b[0;34m'Action'\u001b[0m\u001b[0;34m)\u001b[0m\u001b[0;34m\u001b[0m\u001b[0;34m\u001b[0m\u001b[0m\n\u001b[0m\u001b[1;32m      6\u001b[0m \u001b[0mplt\u001b[0m\u001b[0;34m.\u001b[0m\u001b[0mplot\u001b[0m\u001b[0;34m(\u001b[0m\u001b[0mplat_dict\u001b[0m\u001b[0;34m.\u001b[0m\u001b[0mkeys\u001b[0m\u001b[0;34m(\u001b[0m\u001b[0;34m)\u001b[0m\u001b[0;34m,\u001b[0m\u001b[0mplat_dict\u001b[0m\u001b[0;34m.\u001b[0m\u001b[0mvalues\u001b[0m\u001b[0;34m(\u001b[0m\u001b[0;34m)\u001b[0m\u001b[0;34m,\u001b[0m\u001b[0mlabel\u001b[0m\u001b[0;34m=\u001b[0m\u001b[0;34m'Platform'\u001b[0m\u001b[0;34m,\u001b[0m\u001b[0mcolor\u001b[0m\u001b[0;34m=\u001b[0m\u001b[0;34m'orange'\u001b[0m\u001b[0;34m)\u001b[0m\u001b[0;34m\u001b[0m\u001b[0;34m\u001b[0m\u001b[0m\n\u001b[1;32m      7\u001b[0m \u001b[0mplt\u001b[0m\u001b[0;34m.\u001b[0m\u001b[0mxlabel\u001b[0m\u001b[0;34m(\u001b[0m\u001b[0;34m'Rok [-]'\u001b[0m\u001b[0;34m)\u001b[0m\u001b[0;34m\u001b[0m\u001b[0;34m\u001b[0m\u001b[0m\n",
      "\u001b[0;32m~/opt/anaconda3/lib/python3.8/site-packages/matplotlib/pyplot.py\u001b[0m in \u001b[0;36mplot\u001b[0;34m(scalex, scaley, data, *args, **kwargs)\u001b[0m\n\u001b[1;32m   2759\u001b[0m \u001b[0;34m@\u001b[0m\u001b[0mdocstring\u001b[0m\u001b[0;34m.\u001b[0m\u001b[0mcopy\u001b[0m\u001b[0;34m(\u001b[0m\u001b[0mAxes\u001b[0m\u001b[0;34m.\u001b[0m\u001b[0mplot\u001b[0m\u001b[0;34m)\u001b[0m\u001b[0;34m\u001b[0m\u001b[0;34m\u001b[0m\u001b[0m\n\u001b[1;32m   2760\u001b[0m \u001b[0;32mdef\u001b[0m \u001b[0mplot\u001b[0m\u001b[0;34m(\u001b[0m\u001b[0;34m*\u001b[0m\u001b[0margs\u001b[0m\u001b[0;34m,\u001b[0m \u001b[0mscalex\u001b[0m\u001b[0;34m=\u001b[0m\u001b[0;32mTrue\u001b[0m\u001b[0;34m,\u001b[0m \u001b[0mscaley\u001b[0m\u001b[0;34m=\u001b[0m\u001b[0;32mTrue\u001b[0m\u001b[0;34m,\u001b[0m \u001b[0mdata\u001b[0m\u001b[0;34m=\u001b[0m\u001b[0;32mNone\u001b[0m\u001b[0;34m,\u001b[0m \u001b[0;34m**\u001b[0m\u001b[0mkwargs\u001b[0m\u001b[0;34m)\u001b[0m\u001b[0;34m:\u001b[0m\u001b[0;34m\u001b[0m\u001b[0;34m\u001b[0m\u001b[0m\n\u001b[0;32m-> 2761\u001b[0;31m     return gca().plot(\n\u001b[0m\u001b[1;32m   2762\u001b[0m         *args, scalex=scalex, scaley=scaley, **({\"data\": data} if data\n\u001b[1;32m   2763\u001b[0m         is not None else {}), **kwargs)\n",
      "\u001b[0;32m~/opt/anaconda3/lib/python3.8/site-packages/matplotlib/axes/_axes.py\u001b[0m in \u001b[0;36mplot\u001b[0;34m(self, scalex, scaley, data, *args, **kwargs)\u001b[0m\n\u001b[1;32m   1647\u001b[0m         \u001b[0mlines\u001b[0m \u001b[0;34m=\u001b[0m \u001b[0;34m[\u001b[0m\u001b[0;34m*\u001b[0m\u001b[0mself\u001b[0m\u001b[0;34m.\u001b[0m\u001b[0m_get_lines\u001b[0m\u001b[0;34m(\u001b[0m\u001b[0;34m*\u001b[0m\u001b[0margs\u001b[0m\u001b[0;34m,\u001b[0m \u001b[0mdata\u001b[0m\u001b[0;34m=\u001b[0m\u001b[0mdata\u001b[0m\u001b[0;34m,\u001b[0m \u001b[0;34m**\u001b[0m\u001b[0mkwargs\u001b[0m\u001b[0;34m)\u001b[0m\u001b[0;34m]\u001b[0m\u001b[0;34m\u001b[0m\u001b[0;34m\u001b[0m\u001b[0m\n\u001b[1;32m   1648\u001b[0m         \u001b[0;32mfor\u001b[0m \u001b[0mline\u001b[0m \u001b[0;32min\u001b[0m \u001b[0mlines\u001b[0m\u001b[0;34m:\u001b[0m\u001b[0;34m\u001b[0m\u001b[0;34m\u001b[0m\u001b[0m\n\u001b[0;32m-> 1649\u001b[0;31m             \u001b[0mself\u001b[0m\u001b[0;34m.\u001b[0m\u001b[0madd_line\u001b[0m\u001b[0;34m(\u001b[0m\u001b[0mline\u001b[0m\u001b[0;34m)\u001b[0m\u001b[0;34m\u001b[0m\u001b[0;34m\u001b[0m\u001b[0m\n\u001b[0m\u001b[1;32m   1650\u001b[0m         \u001b[0mself\u001b[0m\u001b[0;34m.\u001b[0m\u001b[0m_request_autoscale_view\u001b[0m\u001b[0;34m(\u001b[0m\u001b[0mscalex\u001b[0m\u001b[0;34m=\u001b[0m\u001b[0mscalex\u001b[0m\u001b[0;34m,\u001b[0m \u001b[0mscaley\u001b[0m\u001b[0;34m=\u001b[0m\u001b[0mscaley\u001b[0m\u001b[0;34m)\u001b[0m\u001b[0;34m\u001b[0m\u001b[0;34m\u001b[0m\u001b[0m\n\u001b[1;32m   1651\u001b[0m         \u001b[0;32mreturn\u001b[0m \u001b[0mlines\u001b[0m\u001b[0;34m\u001b[0m\u001b[0;34m\u001b[0m\u001b[0m\n",
      "\u001b[0;32m~/opt/anaconda3/lib/python3.8/site-packages/matplotlib/axes/_base.py\u001b[0m in \u001b[0;36madd_line\u001b[0;34m(self, line)\u001b[0m\n\u001b[1;32m   1848\u001b[0m             \u001b[0mline\u001b[0m\u001b[0;34m.\u001b[0m\u001b[0mset_clip_path\u001b[0m\u001b[0;34m(\u001b[0m\u001b[0mself\u001b[0m\u001b[0;34m.\u001b[0m\u001b[0mpatch\u001b[0m\u001b[0;34m)\u001b[0m\u001b[0;34m\u001b[0m\u001b[0;34m\u001b[0m\u001b[0m\n\u001b[1;32m   1849\u001b[0m \u001b[0;34m\u001b[0m\u001b[0m\n\u001b[0;32m-> 1850\u001b[0;31m         \u001b[0mself\u001b[0m\u001b[0;34m.\u001b[0m\u001b[0m_update_line_limits\u001b[0m\u001b[0;34m(\u001b[0m\u001b[0mline\u001b[0m\u001b[0;34m)\u001b[0m\u001b[0;34m\u001b[0m\u001b[0;34m\u001b[0m\u001b[0m\n\u001b[0m\u001b[1;32m   1851\u001b[0m         \u001b[0;32mif\u001b[0m \u001b[0;32mnot\u001b[0m \u001b[0mline\u001b[0m\u001b[0;34m.\u001b[0m\u001b[0mget_label\u001b[0m\u001b[0;34m(\u001b[0m\u001b[0;34m)\u001b[0m\u001b[0;34m:\u001b[0m\u001b[0;34m\u001b[0m\u001b[0;34m\u001b[0m\u001b[0m\n\u001b[1;32m   1852\u001b[0m             \u001b[0mline\u001b[0m\u001b[0;34m.\u001b[0m\u001b[0mset_label\u001b[0m\u001b[0;34m(\u001b[0m\u001b[0;34m'_line%d'\u001b[0m \u001b[0;34m%\u001b[0m \u001b[0mlen\u001b[0m\u001b[0;34m(\u001b[0m\u001b[0mself\u001b[0m\u001b[0;34m.\u001b[0m\u001b[0mlines\u001b[0m\u001b[0;34m)\u001b[0m\u001b[0;34m)\u001b[0m\u001b[0;34m\u001b[0m\u001b[0;34m\u001b[0m\u001b[0m\n",
      "\u001b[0;32m~/opt/anaconda3/lib/python3.8/site-packages/matplotlib/axes/_base.py\u001b[0m in \u001b[0;36m_update_line_limits\u001b[0;34m(self, line)\u001b[0m\n\u001b[1;32m   1870\u001b[0m         \u001b[0mFigures\u001b[0m \u001b[0mout\u001b[0m \u001b[0mthe\u001b[0m \u001b[0mdata\u001b[0m \u001b[0mlimit\u001b[0m \u001b[0mof\u001b[0m \u001b[0mthe\u001b[0m \u001b[0mgiven\u001b[0m \u001b[0mline\u001b[0m\u001b[0;34m,\u001b[0m \u001b[0mupdating\u001b[0m \u001b[0mself\u001b[0m\u001b[0;34m.\u001b[0m\u001b[0mdataLim\u001b[0m\u001b[0;34m.\u001b[0m\u001b[0;34m\u001b[0m\u001b[0;34m\u001b[0m\u001b[0m\n\u001b[1;32m   1871\u001b[0m         \"\"\"\n\u001b[0;32m-> 1872\u001b[0;31m         \u001b[0mpath\u001b[0m \u001b[0;34m=\u001b[0m \u001b[0mline\u001b[0m\u001b[0;34m.\u001b[0m\u001b[0mget_path\u001b[0m\u001b[0;34m(\u001b[0m\u001b[0;34m)\u001b[0m\u001b[0;34m\u001b[0m\u001b[0;34m\u001b[0m\u001b[0m\n\u001b[0m\u001b[1;32m   1873\u001b[0m         \u001b[0;32mif\u001b[0m \u001b[0mpath\u001b[0m\u001b[0;34m.\u001b[0m\u001b[0mvertices\u001b[0m\u001b[0;34m.\u001b[0m\u001b[0msize\u001b[0m \u001b[0;34m==\u001b[0m \u001b[0;36m0\u001b[0m\u001b[0;34m:\u001b[0m\u001b[0;34m\u001b[0m\u001b[0;34m\u001b[0m\u001b[0m\n\u001b[1;32m   1874\u001b[0m             \u001b[0;32mreturn\u001b[0m\u001b[0;34m\u001b[0m\u001b[0;34m\u001b[0m\u001b[0m\n",
      "\u001b[0;32m~/opt/anaconda3/lib/python3.8/site-packages/matplotlib/lines.py\u001b[0m in \u001b[0;36mget_path\u001b[0;34m(self)\u001b[0m\n\u001b[1;32m   1025\u001b[0m         \"\"\"\n\u001b[1;32m   1026\u001b[0m         \u001b[0;32mif\u001b[0m \u001b[0mself\u001b[0m\u001b[0;34m.\u001b[0m\u001b[0m_invalidy\u001b[0m \u001b[0;32mor\u001b[0m \u001b[0mself\u001b[0m\u001b[0;34m.\u001b[0m\u001b[0m_invalidx\u001b[0m\u001b[0;34m:\u001b[0m\u001b[0;34m\u001b[0m\u001b[0;34m\u001b[0m\u001b[0m\n\u001b[0;32m-> 1027\u001b[0;31m             \u001b[0mself\u001b[0m\u001b[0;34m.\u001b[0m\u001b[0mrecache\u001b[0m\u001b[0;34m(\u001b[0m\u001b[0;34m)\u001b[0m\u001b[0;34m\u001b[0m\u001b[0;34m\u001b[0m\u001b[0m\n\u001b[0m\u001b[1;32m   1028\u001b[0m         \u001b[0;32mreturn\u001b[0m \u001b[0mself\u001b[0m\u001b[0;34m.\u001b[0m\u001b[0m_path\u001b[0m\u001b[0;34m\u001b[0m\u001b[0;34m\u001b[0m\u001b[0m\n\u001b[1;32m   1029\u001b[0m \u001b[0;34m\u001b[0m\u001b[0m\n",
      "\u001b[0;32m~/opt/anaconda3/lib/python3.8/site-packages/matplotlib/lines.py\u001b[0m in \u001b[0;36mrecache\u001b[0;34m(self, always)\u001b[0m\n\u001b[1;32m    668\u001b[0m         \u001b[0;32mif\u001b[0m \u001b[0malways\u001b[0m \u001b[0;32mor\u001b[0m \u001b[0mself\u001b[0m\u001b[0;34m.\u001b[0m\u001b[0m_invalidx\u001b[0m\u001b[0;34m:\u001b[0m\u001b[0;34m\u001b[0m\u001b[0;34m\u001b[0m\u001b[0m\n\u001b[1;32m    669\u001b[0m             \u001b[0mxconv\u001b[0m \u001b[0;34m=\u001b[0m \u001b[0mself\u001b[0m\u001b[0;34m.\u001b[0m\u001b[0mconvert_xunits\u001b[0m\u001b[0;34m(\u001b[0m\u001b[0mself\u001b[0m\u001b[0;34m.\u001b[0m\u001b[0m_xorig\u001b[0m\u001b[0;34m)\u001b[0m\u001b[0;34m\u001b[0m\u001b[0;34m\u001b[0m\u001b[0m\n\u001b[0;32m--> 670\u001b[0;31m             \u001b[0mx\u001b[0m \u001b[0;34m=\u001b[0m \u001b[0m_to_unmasked_float_array\u001b[0m\u001b[0;34m(\u001b[0m\u001b[0mxconv\u001b[0m\u001b[0;34m)\u001b[0m\u001b[0;34m.\u001b[0m\u001b[0mravel\u001b[0m\u001b[0;34m(\u001b[0m\u001b[0;34m)\u001b[0m\u001b[0;34m\u001b[0m\u001b[0;34m\u001b[0m\u001b[0m\n\u001b[0m\u001b[1;32m    671\u001b[0m         \u001b[0;32melse\u001b[0m\u001b[0;34m:\u001b[0m\u001b[0;34m\u001b[0m\u001b[0;34m\u001b[0m\u001b[0m\n\u001b[1;32m    672\u001b[0m             \u001b[0mx\u001b[0m \u001b[0;34m=\u001b[0m \u001b[0mself\u001b[0m\u001b[0;34m.\u001b[0m\u001b[0m_x\u001b[0m\u001b[0;34m\u001b[0m\u001b[0;34m\u001b[0m\u001b[0m\n",
      "\u001b[0;32m~/opt/anaconda3/lib/python3.8/site-packages/matplotlib/cbook/__init__.py\u001b[0m in \u001b[0;36m_to_unmasked_float_array\u001b[0;34m(x)\u001b[0m\n\u001b[1;32m   1315\u001b[0m         \u001b[0;32mreturn\u001b[0m \u001b[0mnp\u001b[0m\u001b[0;34m.\u001b[0m\u001b[0mma\u001b[0m\u001b[0;34m.\u001b[0m\u001b[0masarray\u001b[0m\u001b[0;34m(\u001b[0m\u001b[0mx\u001b[0m\u001b[0;34m,\u001b[0m \u001b[0mfloat\u001b[0m\u001b[0;34m)\u001b[0m\u001b[0;34m.\u001b[0m\u001b[0mfilled\u001b[0m\u001b[0;34m(\u001b[0m\u001b[0mnp\u001b[0m\u001b[0;34m.\u001b[0m\u001b[0mnan\u001b[0m\u001b[0;34m)\u001b[0m\u001b[0;34m\u001b[0m\u001b[0;34m\u001b[0m\u001b[0m\n\u001b[1;32m   1316\u001b[0m     \u001b[0;32melse\u001b[0m\u001b[0;34m:\u001b[0m\u001b[0;34m\u001b[0m\u001b[0;34m\u001b[0m\u001b[0m\n\u001b[0;32m-> 1317\u001b[0;31m         \u001b[0;32mreturn\u001b[0m \u001b[0mnp\u001b[0m\u001b[0;34m.\u001b[0m\u001b[0masarray\u001b[0m\u001b[0;34m(\u001b[0m\u001b[0mx\u001b[0m\u001b[0;34m,\u001b[0m \u001b[0mfloat\u001b[0m\u001b[0;34m)\u001b[0m\u001b[0;34m\u001b[0m\u001b[0;34m\u001b[0m\u001b[0m\n\u001b[0m\u001b[1;32m   1318\u001b[0m \u001b[0;34m\u001b[0m\u001b[0m\n\u001b[1;32m   1319\u001b[0m \u001b[0;34m\u001b[0m\u001b[0m\n",
      "\u001b[0;32m~/opt/anaconda3/lib/python3.8/site-packages/numpy/core/_asarray.py\u001b[0m in \u001b[0;36masarray\u001b[0;34m(a, dtype, order)\u001b[0m\n\u001b[1;32m     83\u001b[0m \u001b[0;34m\u001b[0m\u001b[0m\n\u001b[1;32m     84\u001b[0m     \"\"\"\n\u001b[0;32m---> 85\u001b[0;31m     \u001b[0;32mreturn\u001b[0m \u001b[0marray\u001b[0m\u001b[0;34m(\u001b[0m\u001b[0ma\u001b[0m\u001b[0;34m,\u001b[0m \u001b[0mdtype\u001b[0m\u001b[0;34m,\u001b[0m \u001b[0mcopy\u001b[0m\u001b[0;34m=\u001b[0m\u001b[0;32mFalse\u001b[0m\u001b[0;34m,\u001b[0m \u001b[0morder\u001b[0m\u001b[0;34m=\u001b[0m\u001b[0morder\u001b[0m\u001b[0;34m)\u001b[0m\u001b[0;34m\u001b[0m\u001b[0;34m\u001b[0m\u001b[0m\n\u001b[0m\u001b[1;32m     86\u001b[0m \u001b[0;34m\u001b[0m\u001b[0m\n\u001b[1;32m     87\u001b[0m \u001b[0;34m\u001b[0m\u001b[0m\n",
      "\u001b[0;31mTypeError\u001b[0m: float() argument must be a string or a number, not 'dict_keys'"
     ]
    },
    {
     "data": {
      "image/png": "[encoded data removed]",
      "text/plain": [
       "<Figure size 576x396 with 1 Axes>"
      ]
     },
     "metadata": {},
     "output_type": "display_data"
    }
   ],
   "source": [
    "act_dict = dict(lata_act.loc[:,'Global_Sales']) #w zmiennej act_dict tworzę słownik dla gier akcji tak samo jak w przypadku wizualizacji pojedynczych zmiennych i wydzielam kolumnę 'Global_Sales' do porównania                                                     #sprzedarży globalnej\n",
    "plat_dict = dict(lata_plat.loc[:,'Global_Sales']) #w zmiennej plat_dict tworzę słownik dla gier akcji tak samo jak w przypadku wizualizacji pojedynczych zmiennych i wydzielam kolumnę 'Global_Sales' do porównania\n",
    "#sprzedaży globalnej\n",
    "#tworzę wykresy liniowe dla każdego słownika, żeby pokazać przy okazji zmienność sprzedaży gier akcji i platformowych na przestrzeni lat\n",
    "plt.plot(act_dict.keys(),act_dict.values(),label='Action') \n",
    "plt.plot(plat_dict.keys(),plat_dict.values(),label='Platform',color='orange')\n",
    "plt.xlabel('Rok [-]')\n",
    "plt.ylabel('Liczba sprzedanych egzemplarzy [mln]')\n",
    "plt.legend()\n",
    "plt.show()"
   ]
  },
  {
   "cell_type": "code",
   "execution_count": null,
   "metadata": {},
   "outputs": [],
   "source": [
    "t,p = st.ttest_ind(lata_act['Global_Sales'],lata_plat['Global_Sales']) #przeprowadzam test t, żeby zbadać istotność różnicy między sprzedażą gier akcji a platformowymi i zapisuję wynik testu do zmiennej 't'\n",
    "#a istotność do zmiennej 'p'\n",
    "print('t =',round(t,5),'\\np =',round(p,5)) #wypisuję testu zaokrąglone do 5 miejsca po przecinku\n",
    "print('srednia akcji:',lata_act['Global_Sales'].mean(),'\\nsrednia platformowych:',lata_plat['Global_Sales'].mean()) #wypisuję średnie sprzedaży globalnej gier akcji i platformowych do napisania wniosku z testu t"
   ]
  },
  {
   "cell_type": "markdown",
   "metadata": {},
   "source": [
    "Została mi jeszcze analiza korelacji między liczbą dodatków do podstawowej gry a sprzedażą tej gry na przykładzie serii The Sims wydanej na platformę PC"
   ]
  },
  {
   "cell_type": "code",
   "execution_count": null,
   "metadata": {},
   "outputs": [],
   "source": [
    "#tworzę podzbiór gier zawierający podstawowe wersje gier z serii The Sims wydanych na PC, tak żeby była spójność platformy, ponieważ kolejne części mogły wychodzić na coraz więcej platform i zaburzyłoby to wynik\n",
    "sims = dane[np.logical_and(dane.Name.isin(['The Sims','The Sims 2','The Sims 3','The Sims 4']),dane.Platform=='PC')].groupby('Name').sum()\n",
    "sims"
   ]
  },
  {
   "cell_type": "code",
   "execution_count": null,
   "metadata": {},
   "outputs": [],
   "source": [
    "#wizualizuję sprzedaż poszczególnych części serii The Sims\n",
    "sims_sprzedaz=dict(sims.loc[:,'Global_Sales']) #wybieram sprzedaż globalną do badania korelacji, ponieważ jest najbardziej ogólna i zamieniam wybrane dane na słownik jak wcześniej\n",
    "plt.bar(sims_sprzedaz.keys(),sims_sprzedaz.values()) #obrazuję rozkład sprzedaży poszczególnych części serii wykresem słupkowym\n",
    "plt.xlabel('Gra serii \\'The Sims\\'')\n",
    "plt.ylabel('Liczba sprzedanych egzemplarzy [mln]')"
   ]
  },
  {
   "cell_type": "markdown",
   "metadata": {},
   "source": [
    "Poniżej sprawdzam ile każda część ma dodatków w zbiorze danych"
   ]
  },
  {
   "cell_type": "code",
   "execution_count": 49,
   "metadata": {},
   "outputs": [
    {
     "data": {
      "text/html": [
       "<div>\n",
       "<style scoped>\n",
       "    .dataframe tbody tr th:only-of-type {\n",
       "        vertical-align: middle;\n",
       "    }\n",
       "\n",
       "    .dataframe tbody tr th {\n",
       "        vertical-align: top;\n",
       "    }\n",
       "\n",
       "    .dataframe thead th {\n",
       "        text-align: right;\n",
       "    }\n",
       "</style>\n",
       "<table border=\"1\" class=\"dataframe\">\n",
       "  <thead>\n",
       "    <tr style=\"text-align: right;\">\n",
       "      <th></th>\n",
       "      <th>Name</th>\n",
       "      <th>Platform</th>\n",
       "      <th>Year</th>\n",
       "      <th>Genre</th>\n",
       "      <th>Publisher</th>\n",
       "      <th>NA_Sales</th>\n",
       "      <th>EU_Sales</th>\n",
       "      <th>JP_Sales</th>\n",
       "      <th>Other_Sales</th>\n",
       "      <th>Global_Sales</th>\n",
       "    </tr>\n",
       "  </thead>\n",
       "  <tbody>\n",
       "    <tr>\n",
       "      <th>478</th>\n",
       "      <td>The Sims 4</td>\n",
       "      <td>PC</td>\n",
       "      <td>2014</td>\n",
       "      <td>Simulation</td>\n",
       "      <td>Electronic Arts</td>\n",
       "      <td>0.96</td>\n",
       "      <td>1.72</td>\n",
       "      <td>0.0</td>\n",
       "      <td>0.29</td>\n",
       "      <td>2.97</td>\n",
       "    </tr>\n",
       "    <tr>\n",
       "      <th>7768</th>\n",
       "      <td>The Sims 4: Get Together</td>\n",
       "      <td>PC</td>\n",
       "      <td>2015</td>\n",
       "      <td>Simulation</td>\n",
       "      <td>Electronic Arts</td>\n",
       "      <td>0.05</td>\n",
       "      <td>0.13</td>\n",
       "      <td>0.0</td>\n",
       "      <td>0.01</td>\n",
       "      <td>0.19</td>\n",
       "    </tr>\n",
       "    <tr>\n",
       "      <th>13836</th>\n",
       "      <td>The Sims 4: Spa Day</td>\n",
       "      <td>PC</td>\n",
       "      <td>2015</td>\n",
       "      <td>Simulation</td>\n",
       "      <td>Electronic Arts</td>\n",
       "      <td>0.00</td>\n",
       "      <td>0.04</td>\n",
       "      <td>0.0</td>\n",
       "      <td>0.00</td>\n",
       "      <td>0.04</td>\n",
       "    </tr>\n",
       "    <tr>\n",
       "      <th>15897</th>\n",
       "      <td>The Sims 4: Luxury Party Stuff</td>\n",
       "      <td>PC</td>\n",
       "      <td>2015</td>\n",
       "      <td>Simulation</td>\n",
       "      <td>Electronic Arts</td>\n",
       "      <td>0.00</td>\n",
       "      <td>0.01</td>\n",
       "      <td>0.0</td>\n",
       "      <td>0.00</td>\n",
       "      <td>0.02</td>\n",
       "    </tr>\n",
       "  </tbody>\n",
       "</table>\n",
       "</div>"
      ],
      "text/plain": [
       "                                 Name Platform  Year       Genre  \\\n",
       "478                        The Sims 4       PC  2014  Simulation   \n",
       "7768         The Sims 4: Get Together       PC  2015  Simulation   \n",
       "13836             The Sims 4: Spa Day       PC  2015  Simulation   \n",
       "15897  The Sims 4: Luxury Party Stuff       PC  2015  Simulation   \n",
       "\n",
       "             Publisher  NA_Sales  EU_Sales  JP_Sales  Other_Sales  \\\n",
       "478    Electronic Arts      0.96      1.72       0.0         0.29   \n",
       "7768   Electronic Arts      0.05      0.13       0.0         0.01   \n",
       "13836  Electronic Arts      0.00      0.04       0.0         0.00   \n",
       "15897  Electronic Arts      0.00      0.01       0.0         0.00   \n",
       "\n",
       "       Global_Sales  \n",
       "478            2.97  \n",
       "7768           0.19  \n",
       "13836          0.04  \n",
       "15897          0.02  "
      ]
     },
     "execution_count": 49,
     "metadata": {},
     "output_type": "execute_result"
    }
   ],
   "source": [
    "dane[np.logical_and(dane.Name.str.contains('The Sims 4'), dane.Platform=='PC')]\n",
    "#jak widać są 4 rekordy z The Sims 4 po odjęciu podstawowej wersji gry zostają 3 rekordy, a zatem w danych są 3 dodatki"
   ]
  },
  {
   "cell_type": "code",
   "execution_count": 50,
   "metadata": {},
   "outputs": [
    {
     "data": {
      "text/plain": [
       "Name            11\n",
       "Platform        11\n",
       "Year            11\n",
       "Genre           11\n",
       "Publisher       11\n",
       "NA_Sales        11\n",
       "EU_Sales        11\n",
       "JP_Sales        11\n",
       "Other_Sales     11\n",
       "Global_Sales    11\n",
       "dtype: int64"
      ]
     },
     "execution_count": 50,
     "metadata": {},
     "output_type": "execute_result"
    }
   ],
   "source": [
    "dane[np.logical_and(dane.Name.str.contains('The Sims 3'), dane.Platform=='PC')].count() #przejrzałem kolejne zbiory jak ten powyżej, żeby sprawdzić ile jest dodatków i używam tylko .count()\n",
    "#jak widać jest 11 rekordów z The Sims 3, po odjęciu podstawowej wersji gry zostanie 10 rekordów, a zatem w danych jest 10 dodatków"
   ]
  },
  {
   "cell_type": "code",
   "execution_count": 51,
   "metadata": {},
   "outputs": [
    {
     "data": {
      "text/plain": [
       "Name            12\n",
       "Platform        12\n",
       "Year            12\n",
       "Genre           12\n",
       "Publisher       12\n",
       "NA_Sales        12\n",
       "EU_Sales        12\n",
       "JP_Sales        12\n",
       "Other_Sales     12\n",
       "Global_Sales    12\n",
       "dtype: int64"
      ]
     },
     "execution_count": 51,
     "metadata": {},
     "output_type": "execute_result"
    }
   ],
   "source": [
    "dane[np.logical_and(dane.Name.str.contains('The Sims 2'), dane.Platform=='PC')].count() \n",
    "#jak widać jest 12 rekordów z The Sims 2, po odjęciu podstawowej wersji gry zostanie 11 dodatków według danych"
   ]
  },
  {
   "cell_type": "code",
   "execution_count": 52,
   "metadata": {},
   "outputs": [
    {
     "data": {
      "text/plain": [
       "Name            39\n",
       "Platform        39\n",
       "Year            39\n",
       "Genre           39\n",
       "Publisher       39\n",
       "NA_Sales        39\n",
       "EU_Sales        39\n",
       "JP_Sales        39\n",
       "Other_Sales     39\n",
       "Global_Sales    39\n",
       "dtype: int64"
      ]
     },
     "execution_count": 52,
     "metadata": {},
     "output_type": "execute_result"
    }
   ],
   "source": [
    "dane[np.logical_and(dane.Name.str.contains('The Sims'), dane.Platform=='PC')].count() #sprawdzam wystąpienia frazy 'The Sims' w nazwach gier, żeby wyznaczyć liczbę dodatków pierwszej części"
   ]
  },
  {
   "cell_type": "code",
   "execution_count": 53,
   "metadata": {},
   "outputs": [],
   "source": [
    "#jak widać powyżej ogólnie z frazą 'The Sims' jest 39 rekordów, aby otrzymać liczbę dodatków dla pierwszej części The Sims odejmuje od 39 ilość wystąpień kolejnych części i wersję podstawową The Sims razem z\n",
    "#wersjami deluxe i complete, które są w danych: 39-4-11-12-1-1-1=9, zatem w danych jest informacja o 9 dodatkach wydanych dla gry The Sims"
   ]
  },
  {
   "cell_type": "code",
   "execution_count": 54,
   "metadata": {},
   "outputs": [
    {
     "data": {
      "text/plain": [
       "Text(0, 0.5, 'Liczba dodatków [-]')"
      ]
     },
     "execution_count": 54,
     "metadata": {},
     "output_type": "execute_result"
    },
    {
     "data": {
      "image/png": "[encoded data removed]",
      "text/plain": [
       "<Figure size 576x396 with 1 Axes>"
      ]
     },
     "metadata": {},
     "output_type": "display_data"
    }
   ],
   "source": [
    "sims_dodatki = {'The Sims':9,'The Sims 2':11,'The Sims 3':10,'The Sims 4':3} #tworzę słownik z otrzymanymi liczbami dodatków dla każej części serii The Sims\n",
    "#wizualizuję liczbę dodatków dla każdej części\n",
    "plt.bar(sims_dodatki.keys(),sims_dodatki.values(),color='purple')\n",
    "plt.xlabel('Gra serii \\'The Sims\\'')\n",
    "plt.ylabel('Liczba dodatków [-]')"
   ]
  },
  {
   "cell_type": "code",
   "execution_count": 55,
   "metadata": {},
   "outputs": [
    {
     "ename": "NameError",
     "evalue": "name 'sims_sprzedaz' is not defined",
     "output_type": "error",
     "traceback": [
      "\u001b[0;31m---------------------------------------------------------------------------\u001b[0m",
      "\u001b[0;31mNameError\u001b[0m                                 Traceback (most recent call last)",
      "\u001b[0;32m<ipython-input-55-4bae28184ace>\u001b[0m in \u001b[0;36m<module>\u001b[0;34m\u001b[0m\n\u001b[0;32m----> 1\u001b[0;31m \u001b[0mr\u001b[0m\u001b[0;34m,\u001b[0m\u001b[0mp\u001b[0m \u001b[0;34m=\u001b[0m \u001b[0mst\u001b[0m\u001b[0;34m.\u001b[0m\u001b[0mpearsonr\u001b[0m\u001b[0;34m(\u001b[0m\u001b[0mlist\u001b[0m\u001b[0;34m(\u001b[0m\u001b[0msims_sprzedaz\u001b[0m\u001b[0;34m.\u001b[0m\u001b[0mvalues\u001b[0m\u001b[0;34m(\u001b[0m\u001b[0;34m)\u001b[0m\u001b[0;34m)\u001b[0m\u001b[0;34m,\u001b[0m\u001b[0mlist\u001b[0m\u001b[0;34m(\u001b[0m\u001b[0msims_dodatki\u001b[0m\u001b[0;34m.\u001b[0m\u001b[0mvalues\u001b[0m\u001b[0;34m(\u001b[0m\u001b[0;34m)\u001b[0m\u001b[0;34m)\u001b[0m\u001b[0;34m)\u001b[0m \u001b[0;31m#obliczam współczynnik korelacji liniowwej Pearsona dla niezależnych danych ilościowych i zapisuję współczynnik pod zmienną 'r', a\u001b[0m\u001b[0;34m\u001b[0m\u001b[0;34m\u001b[0m\u001b[0m\n\u001b[0m\u001b[1;32m      2\u001b[0m \u001b[0;31m#istotność pod zmienną 'p'\u001b[0m\u001b[0;34m\u001b[0m\u001b[0;34m\u001b[0m\u001b[0;34m\u001b[0m\u001b[0m\n\u001b[1;32m      3\u001b[0m \u001b[0mprint\u001b[0m\u001b[0;34m(\u001b[0m\u001b[0;34m'r ='\u001b[0m\u001b[0;34m,\u001b[0m\u001b[0mround\u001b[0m\u001b[0;34m(\u001b[0m\u001b[0mr\u001b[0m\u001b[0;34m,\u001b[0m\u001b[0;36m5\u001b[0m\u001b[0;34m)\u001b[0m\u001b[0;34m,\u001b[0m\u001b[0;34m'\\np ='\u001b[0m\u001b[0;34m,\u001b[0m\u001b[0mround\u001b[0m\u001b[0;34m(\u001b[0m\u001b[0mp\u001b[0m\u001b[0;34m,\u001b[0m\u001b[0;36m5\u001b[0m\u001b[0;34m)\u001b[0m\u001b[0;34m)\u001b[0m \u001b[0;31m#wypisuję wyniki zaokrąglone do 5 miejsca po przecinku\u001b[0m\u001b[0;34m\u001b[0m\u001b[0;34m\u001b[0m\u001b[0m\n",
      "\u001b[0;31mNameError\u001b[0m: name 'sims_sprzedaz' is not defined"
     ]
    }
   ],
   "source": [
    "r,p = st.pearsonr(list(sims_sprzedaz.values()),list(sims_dodatki.values())) #obliczam współczynnik korelacji liniowwej Pearsona dla niezależnych danych ilościowych i zapisuję współczynnik pod zmienną 'r', a\n",
    "#istotność pod zmienną 'p'\n",
    "print('r =',round(r,5),'\\np =',round(p,5)) #wypisuję wyniki zaokrąglone do 5 miejsca po przecinku"
   ]
  },
  {
   "cell_type": "code",
   "execution_count": 56,
   "metadata": {
    "scrolled": true
   },
   "outputs": [
    {
     "ename": "NameError",
     "evalue": "name 'sims_sprzedaz' is not defined",
     "output_type": "error",
     "traceback": [
      "\u001b[0;31m---------------------------------------------------------------------------\u001b[0m",
      "\u001b[0;31mNameError\u001b[0m                                 Traceback (most recent call last)",
      "\u001b[0;32m<ipython-input-56-e3572916c9eb>\u001b[0m in \u001b[0;36m<module>\u001b[0;34m\u001b[0m\n\u001b[0;32m----> 1\u001b[0;31m \u001b[0md\u001b[0m \u001b[0;34m=\u001b[0m \u001b[0mnp\u001b[0m\u001b[0;34m.\u001b[0m\u001b[0mpolyfit\u001b[0m\u001b[0;34m(\u001b[0m\u001b[0mlist\u001b[0m\u001b[0;34m(\u001b[0m\u001b[0msims_dodatki\u001b[0m\u001b[0;34m.\u001b[0m\u001b[0mvalues\u001b[0m\u001b[0;34m(\u001b[0m\u001b[0;34m)\u001b[0m\u001b[0;34m)\u001b[0m\u001b[0;34m,\u001b[0m\u001b[0mlist\u001b[0m\u001b[0;34m(\u001b[0m\u001b[0msims_sprzedaz\u001b[0m\u001b[0;34m.\u001b[0m\u001b[0mvalues\u001b[0m\u001b[0;34m(\u001b[0m\u001b[0;34m)\u001b[0m\u001b[0;34m)\u001b[0m\u001b[0;34m,\u001b[0m\u001b[0;36m1\u001b[0m\u001b[0;34m)\u001b[0m \u001b[0;31m#obliczam metodą najmniejszych kwadratów współrzędne punktów na linii regresji\u001b[0m\u001b[0;34m\u001b[0m\u001b[0;34m\u001b[0m\u001b[0m\n\u001b[0m\u001b[1;32m      2\u001b[0m \u001b[0mf\u001b[0m \u001b[0;34m=\u001b[0m \u001b[0mnp\u001b[0m\u001b[0;34m.\u001b[0m\u001b[0mpoly1d\u001b[0m\u001b[0;34m(\u001b[0m\u001b[0md\u001b[0m\u001b[0;34m)\u001b[0m \u001b[0;31m#tworzę funkcję na podstawie punktów wyznaczonych w zmiennej 'd'\u001b[0m\u001b[0;34m\u001b[0m\u001b[0;34m\u001b[0m\u001b[0m\n\u001b[1;32m      3\u001b[0m \u001b[0mplt\u001b[0m\u001b[0;34m.\u001b[0m\u001b[0mscatter\u001b[0m\u001b[0;34m(\u001b[0m\u001b[0msims_dodatki\u001b[0m\u001b[0;34m.\u001b[0m\u001b[0mvalues\u001b[0m\u001b[0;34m(\u001b[0m\u001b[0;34m)\u001b[0m\u001b[0;34m,\u001b[0m\u001b[0msims_sprzedaz\u001b[0m\u001b[0;34m.\u001b[0m\u001b[0mvalues\u001b[0m\u001b[0;34m(\u001b[0m\u001b[0;34m)\u001b[0m\u001b[0;34m,\u001b[0m\u001b[0msizes\u001b[0m\u001b[0;34m=\u001b[0m\u001b[0;34m[\u001b[0m\u001b[0;36m50\u001b[0m\u001b[0;34m,\u001b[0m\u001b[0;36m50\u001b[0m\u001b[0;34m,\u001b[0m\u001b[0;36m50\u001b[0m\u001b[0;34m,\u001b[0m\u001b[0;36m50\u001b[0m\u001b[0;34m]\u001b[0m\u001b[0;34m)\u001b[0m \u001b[0;31m#robię wykres rozrzutu liczby sprzedanych podstawowych wersji gier względem liczby ich dodatków\u001b[0m\u001b[0;34m\u001b[0m\u001b[0;34m\u001b[0m\u001b[0m\n\u001b[1;32m      4\u001b[0m \u001b[0mplt\u001b[0m\u001b[0;34m.\u001b[0m\u001b[0mxlabel\u001b[0m\u001b[0;34m(\u001b[0m\u001b[0;34m'Liczba dodatków [-]'\u001b[0m\u001b[0;34m)\u001b[0m\u001b[0;34m\u001b[0m\u001b[0;34m\u001b[0m\u001b[0m\n\u001b[1;32m      5\u001b[0m \u001b[0mplt\u001b[0m\u001b[0;34m.\u001b[0m\u001b[0mylabel\u001b[0m\u001b[0;34m(\u001b[0m\u001b[0;34m'Liczba sprzedanych egzemplarzy gry [mln]'\u001b[0m\u001b[0;34m)\u001b[0m\u001b[0;34m\u001b[0m\u001b[0;34m\u001b[0m\u001b[0m\n",
      "\u001b[0;31mNameError\u001b[0m: name 'sims_sprzedaz' is not defined"
     ]
    }
   ],
   "source": [
    "d = np.polyfit(list(sims_dodatki.values()),list(sims_sprzedaz.values()),1) #obliczam metodą najmniejszych kwadratów współrzędne punktów na linii regresji\n",
    "f = np.poly1d(d) #tworzę funkcję na podstawie punktów wyznaczonych w zmiennej 'd'\n",
    "plt.scatter(sims_dodatki.values(),sims_sprzedaz.values(),sizes=[50,50,50,50]) #robię wykres rozrzutu liczby sprzedanych podstawowych wersji gier względem liczby ich dodatków\n",
    "plt.xlabel('Liczba dodatków [-]')\n",
    "plt.ylabel('Liczba sprzedanych egzemplarzy gry [mln]')\n",
    "plt.plot(sims_dodatki.values(),f(list(sims_dodatki.values())),label='Linia regresji',color='r') #dodaję do wykresu linię regresji, która obrazuje związek między zmiennymi - w tym przypadku związku nie ma,\n",
    "#dlatego linia jest prawie pozioma\n",
    "plt.legend()\n",
    "plt.show()"
   ]
  },
  {
   "cell_type": "markdown",
   "metadata": {},
   "source": [
    "To wszystko z mojej części :)"
   ]
  },
  {
   "cell_type": "code",
   "execution_count": 62,
   "metadata": {
    "scrolled": false
   },
   "outputs": [
    {
     "data": {
      "image/png": "[encoded data removed]",
      "text/plain": [
       "<Figure size 576x396 with 1 Axes>"
      ]
     },
     "metadata": {},
     "output_type": "display_data"
    }
   ],
   "source": [
    "ps= dane[dane.Platform.str.contains('PS')].groupby('Year').sum()\n",
    "xbox= dane[np.logical_and(dane.Platform.str.contains('X'), dane.Platform!='PCFX')].groupby('Year').sum()\n",
    "ps_dict=dict(ps.loc[2000:2016,'Global_Sales'])\n",
    "xbox_dict=dict(xbox.loc[2000:2016,'Global_Sales'])\n",
    "plt.plot(list(ps_dict.keys()),list(ps_dict.values()),label='Playstation')\n",
    "plt.plot(list(xbox_dict.keys()),list(xbox_dict.values()),color='red',label='XBOX')\n",
    "plt.xlabel('Lata 2000-2016')\n",
    "plt.ylabel('Ilość sprzedanych gier na świecie [MLN]')\n",
    "plt.legend()\n",
    "plt.show()"
   ]
  },
  {
   "cell_type": "code",
   "execution_count": 200,
   "metadata": {},
   "outputs": [
    {
     "name": "stdout",
     "output_type": "stream",
     "text": [
      "f = 0.59322 \n",
      "p1 = 0.4458\n"
     ]
    }
   ],
   "source": [
    "f,p1 = st.levene(xbox['Global_Sales'],ps['Global_Sales']) #przeprowadzam test Levene'a, żeby zbadać homogeniczność \n",
    "#wariancji między sprzedażą gier na XBOX oraz Playstation i zapisuję wynik testu do\n",
    "#zmiennej 'f' a istotność do zmiennej 'p1'\n",
    "print('f =',round(f,5),'\\np1 =',round(p1,4)) #wypisuję wyniki testu zaokrąglone do 5 miejsca po przecinku,\n",
    "#tylko p1 do 4 miejsca, ponieważ jest za małe i wyświetla się w formacie z e kiedy jest do 5 miejsca zaokrąglone"
   ]
  },
  {
   "cell_type": "code",
   "execution_count": 202,
   "metadata": {},
   "outputs": [
    {
     "name": "stdout",
     "output_type": "stream",
     "text": [
      "t = 3.62855 \n",
      "p2 = 0.44582\n",
      "srednia xbox: 80.16176470588239 \n",
      "srednia playstation: 147.56208333333345\n"
     ]
    }
   ],
   "source": [
    "t,p2 = st.ttest_ind(ps['Global_Sales'],xbox['Global_Sales'],equal_var=True) #przeprowadzam test t, żeby zbadać istotność\n",
    "#różnicy między sprzedażą gier na XBOX, a na Playstation i zapisuję wynik testu do zmiennej 't'\n",
    "#a istotność do zmiennej 'p2'\n",
    "print('t =',round(t,5),'\\np2 =',round(p,5)) #wypisuję testu zaokrąglone do 5 miejsca po przecinku\n",
    "print('srednia xbox:',xbox['Global_Sales'].mean(),'\\nsrednia playstation:',ps['Global_Sales'].mean()) \n",
    "#wypisuję średnie sprzedaży gier na XBOX i gier na Playstation do napisania wniosku z testu t"
   ]
  },
  {
   "cell_type": "code",
   "execution_count": 166,
   "metadata": {},
   "outputs": [
    {
     "data": {
      "text/plain": [
       "3541.4900000000025"
      ]
     },
     "execution_count": 166,
     "metadata": {},
     "output_type": "execute_result"
    }
   ],
   "source": [
    "ps['Global_Sales'].sum()"
   ]
  },
  {
   "cell_type": "code",
   "execution_count": 167,
   "metadata": {},
   "outputs": [
    {
     "data": {
      "text/plain": [
       "1362.7500000000005"
      ]
     },
     "execution_count": 167,
     "metadata": {},
     "output_type": "execute_result"
    }
   ],
   "source": [
    "xbox['Global_Sales'].sum()"
   ]
  },
  {
   "cell_type": "code",
   "execution_count": 168,
   "metadata": {},
   "outputs": [
    {
     "data": {
      "text/plain": [
       "467.9"
      ]
     },
     "execution_count": 168,
     "metadata": {},
     "output_type": "execute_result"
    }
   ],
   "source": [
    "ps['JP_Sales'].sum()"
   ]
  },
  {
   "cell_type": "code",
   "execution_count": 169,
   "metadata": {},
   "outputs": [
    {
     "data": {
      "text/plain": [
       "14.020000000000003"
      ]
     },
     "execution_count": 169,
     "metadata": {},
     "output_type": "execute_result"
    }
   ],
   "source": [
    "xbox['JP_Sales'].sum()"
   ]
  },
  {
   "cell_type": "code",
   "execution_count": 170,
   "metadata": {},
   "outputs": [
    {
     "data": {
      "text/plain": [
       "1090.3000000000002"
      ]
     },
     "execution_count": 170,
     "metadata": {},
     "output_type": "execute_result"
    }
   ],
   "source": [
    "ps['EU_Sales'].sum()"
   ]
  },
  {
   "cell_type": "code",
   "execution_count": 171,
   "metadata": {},
   "outputs": [
    {
     "data": {
      "text/plain": [
       "379.98999999999995"
      ]
     },
     "execution_count": 171,
     "metadata": {},
     "output_type": "execute_result"
    }
   ],
   "source": [
    "xbox['EU_Sales'].sum()"
   ]
  },
  {
   "cell_type": "code",
   "execution_count": null,
   "metadata": {},
   "outputs": [],
   "source": []
  },
  {
   "cell_type": "code",
   "execution_count": null,
   "metadata": {},
   "outputs": [],
   "source": []
  },
  {
   "cell_type": "code",
   "execution_count": 63,
   "metadata": {},
   "outputs": [
    {
     "data": {
      "image/png": "[encoded data removed]",
      "text/plain": [
       "<Figure size 576x396 with 1 Axes>"
      ]
     },
     "metadata": {},
     "output_type": "display_data"
    }
   ],
   "source": [
    "ps= dane[dane.Platform.str.contains('PS')].groupby('Year').sum()\n",
    "xbox= dane[np.logical_and(dane.Platform.str.contains('X'), dane.Platform!='PCFX')].groupby('Year').sum()\n",
    "ps_dict=dict(ps.loc[2000:2016,'JP_Sales'])\n",
    "xbox_dict=dict(xbox.loc[2000:2016,'JP_Sales'])\n",
    "plt.plot(list(ps_dict.keys()),list(ps_dict.values()),label='Playstation')\n",
    "plt.plot(list(xbox_dict.keys()),list(xbox_dict.values()),color='red',label='XBOX')\n",
    "plt.xlabel('Lata 2000-2016')\n",
    "plt.ylabel('Ilość sprzedanych gier w Japonii [MLN]')\n",
    "plt.legend()\n",
    "plt.show()"
   ]
  },
  {
   "cell_type": "code",
   "execution_count": 203,
   "metadata": {},
   "outputs": [
    {
     "name": "stdout",
     "output_type": "stream",
     "text": [
      "f = 13.99879 \n",
      "p1 = 0.0006\n"
     ]
    }
   ],
   "source": [
    "f,p1 = st.levene(xbox['JP_Sales'],ps['JP_Sales']) #przeprowadzam test Levene'a, żeby zbadać homogeniczność \n",
    "#wariancji między sprzedażą gier na XBOX oraz Playstation (w Japonii) i zapisuję wynik testu do\n",
    "#zmiennej 'f' a istotność do zmiennej 'p1'\n",
    "print('f =',round(f,5),'\\np1 =',round(p1,4)) #wypisuję wyniki testu zaokrąglone do 5 miejsca po przecinku,\n",
    "#tylko p1 do 4 miejsca, ponieważ jest za małe i wyświetla się w formacie z e kiedy jest do 5 miejsca zaokrąglone"
   ]
  },
  {
   "cell_type": "code",
   "execution_count": 204,
   "metadata": {},
   "outputs": [
    {
     "name": "stdout",
     "output_type": "stream",
     "text": [
      "t = 11.2463 \n",
      "p = 0.0\n",
      "srednia xbox Japonia: 0.8247058823529415 \n",
      "srednia playstation Japonia: 19.495833333333334\n"
     ]
    }
   ],
   "source": [
    "t,p = st.ttest_ind(ps['JP_Sales'],xbox['JP_Sales'],equal_var=False) #przeprowadzam test t, żeby zbadać istotność\n",
    "#różnicy między sprzedażą gier na XBOX, a na Playstation (w Japonii) i zapisuję wynik testu do zmiennej 't'\n",
    "#a istotność do zmiennej 'p'\n",
    "print('t =',round(t,5),'\\np =',round(p,5)) #wypisuję testu zaokrąglone do 5 miejsca po przecinku\n",
    "print('srednia xbox Japonia:',xbox['JP_Sales'].mean(),'\\nsrednia playstation Japonia:',ps['JP_Sales'].mean()) \n",
    "#wypisuję średnie sprzedaży gier na XBOX i gier na Playstation w Japonii do napisania wniosku z testu t"
   ]
  },
  {
   "cell_type": "code",
   "execution_count": 64,
   "metadata": {
    "scrolled": true
   },
   "outputs": [
    {
     "data": {
      "image/png": "[encoded data removed]",
      "text/plain": [
       "<Figure size 576x396 with 1 Axes>"
      ]
     },
     "metadata": {},
     "output_type": "display_data"
    }
   ],
   "source": [
    "ps= dane[dane.Platform.str.contains('PS')].groupby('Year').sum()\n",
    "xbox= dane[np.logical_and(dane.Platform.str.contains('X'), dane.Platform!='PCFX')].groupby('Year').sum()\n",
    "ps_dict=dict(ps.loc[2000:2016,'EU_Sales'])\n",
    "xbox_dict=dict(xbox.loc[2000:2016,'EU_Sales'])\n",
    "plt.plot(list(ps_dict.keys()),list(ps_dict.values()),label='Playstation')\n",
    "plt.plot(list(xbox_dict.keys()),list(xbox_dict.values()),color='red',label='XBOX')\n",
    "plt.xlabel('Lata 2000-2016')\n",
    "plt.ylabel('Ilość sprzedanych gier w Europie [MLN]')\n",
    "plt.legend()\n",
    "plt.show()"
   ]
  },
  {
   "cell_type": "code",
   "execution_count": 205,
   "metadata": {},
   "outputs": [
    {
     "name": "stdout",
     "output_type": "stream",
     "text": [
      "f = 0.55457 \n",
      "p1 = 0.4609\n"
     ]
    }
   ],
   "source": [
    "f,p1 = st.levene(xbox['EU_Sales'],ps['EU_Sales']) #przeprowadzam test Levene'a, żeby zbadać homogeniczność \n",
    "#wariancji między sprzedażą gier na XBOX oraz Playstation (w Europie) i zapisuję wynik testu do\n",
    "#zmiennej 'f' a istotność do zmiennej 'p1'\n",
    "print('f =',round(f,5),'\\np1 =',round(p1,4)) #wypisuję wyniki testu zaokrąglone do 5 miejsca po przecinku,\n",
    "#tylko p1 do 4 miejsca, ponieważ jest za małe i wyświetla się w formacie z e kiedy jest do 5 miejsca zaokrąglone"
   ]
  },
  {
   "cell_type": "code",
   "execution_count": 217,
   "metadata": {},
   "outputs": [
    {
     "name": "stdout",
     "output_type": "stream",
     "text": [
      "t = 4.02014 \n",
      "p = 0.00026\n",
      "srednia xbox Europa: 22.352352941176466 \n",
      "srednia playstation Europa: 45.429166666666674\n"
     ]
    }
   ],
   "source": [
    "t,p = st.ttest_ind(ps['EU_Sales'],xbox['EU_Sales'],equal_var=True) #przeprowadzam test t, żeby zbadać istotność\n",
    "#różnicy między sprzedażą gier na XBOX, a na Playstation (w Japonii) i zapisuję wynik testu do zmiennej 't'\n",
    "#a istotność do zmiennej 'p'\n",
    "print('t =',round(t,5),'\\np =',round(p,5)) #wypisuję testu zaokrąglone do 5 miejsca po przecinku\n",
    "print('srednia xbox Europa:',xbox['EU_Sales'].mean(),'\\nsrednia playstation Europa:',ps['EU_Sales'].mean()) \n",
    "#wypisuję średnie sprzedaży gier na XBOX i gier na Playstation w Japonii do napisania wniosku z testu t"
   ]
  },
  {
   "cell_type": "code",
   "execution_count": 210,
   "metadata": {
    "scrolled": true
   },
   "outputs": [
    {
     "data": {
      "image/png": "[encoded data removed]",
      "text/plain": [
       "<Figure size 576x396 with 1 Axes>"
      ]
     },
     "metadata": {},
     "output_type": "display_data"
    }
   ],
   "source": [
    "xbox_eu_dict=dict(xbox.loc[2000:2016,'EU_Sales'])\n",
    "xbox_jp_dict=dict(xbox.loc[2000:2016,'JP_Sales'])\n",
    "plt.plot(list(xbox_jp_dict.keys()),list(xbox_jp_dict.values()),label='XBOX Japonia')\n",
    "plt.plot(list(xbox_eu_dict.keys()),list(xbox_eu_dict.values()),color='red',label='XBOX Europa')\n",
    "plt.xlabel('Lata 2000-2016')\n",
    "plt.ylabel('Ilość sprzedanych gier [MLN]')\n",
    "plt.legend()\n",
    "plt.show()\n",
    "#xbox_eu=list(xbox_eu_dict)\n",
    "#xbox_jp=list(xbox_jp_dict)"
   ]
  },
  {
   "cell_type": "code",
   "execution_count": 212,
   "metadata": {},
   "outputs": [
    {
     "name": "stdout",
     "output_type": "stream",
     "text": [
      "f = 46.1338 \n",
      "p1 = 0.0\n"
     ]
    }
   ],
   "source": [
    "f,p1 = st.levene(xbox['EU_Sales'],xbox['JP_Sales']) #przeprowadzam test Levene'a, żeby zbadać homogeniczność \n",
    "#wariancji między sprzedażą gier na XBOX oraz Playstation (w Japonii) i zapisuję wynik testu do\n",
    "#zmiennej 'f' a istotność do zmiennej 'p1'\n",
    "print('f =',round(f,5),'\\np1 =',round(p1,4)) #wypisuję wyniki testu zaokrąglone do 5 miejsca po przecinku,\n",
    "#tylko p1 do 4 miejsca, ponieważ jest za małe i wyświetla się w formacie z e kiedy jest do 5 miejsca zaokrąglone"
   ]
  },
  {
   "cell_type": "code",
   "execution_count": 221,
   "metadata": {
    "scrolled": false
   },
   "outputs": [
    {
     "name": "stdout",
     "output_type": "stream",
     "text": [
      "t = 6.1968 \n",
      "p = 0.0\n",
      "srednia xbox Japonia: 0.8247058823529415 \n",
      "srednia xbox Europa: 22.352352941176466\n"
     ]
    }
   ],
   "source": [
    "t,p = st.ttest_ind(xbox['EU_Sales'],xbox['JP_Sales'],equal_var=False) #przeprowadzam test t, żeby zbadać istotność\n",
    "#różnicy między sprzedażą gier na XBOX w Japonii oraz w Europie i zapisuję wynik testu do zmiennej 't'\n",
    "#a istotność do zmiennej 'p'\n",
    "print('t =',round(t,5),'\\np =',round(p,3)) #wypisuję testu zaokrąglone do 5 miejsca po przecinku\n",
    "print('srednia xbox Japonia:',xbox['JP_Sales'].mean(),'\\nsrednia xbox Europa:',xbox['EU_Sales'].mean()) \n",
    "#wypisuję średnie sprzedaży gier na XBOX w Japonii i Europie do napisania wniosku z testu t"
   ]
  },
  {
   "cell_type": "code",
   "execution_count": 76,
   "metadata": {},
   "outputs": [
    {
     "data": {
      "text/html": [
       "<div>\n",
       "<style scoped>\n",
       "    .dataframe tbody tr th:only-of-type {\n",
       "        vertical-align: middle;\n",
       "    }\n",
       "\n",
       "    .dataframe tbody tr th {\n",
       "        vertical-align: top;\n",
       "    }\n",
       "\n",
       "    .dataframe thead th {\n",
       "        text-align: right;\n",
       "    }\n",
       "</style>\n",
       "<table border=\"1\" class=\"dataframe\">\n",
       "  <thead>\n",
       "    <tr style=\"text-align: right;\">\n",
       "      <th></th>\n",
       "      <th>NA_Sales</th>\n",
       "      <th>EU_Sales</th>\n",
       "      <th>JP_Sales</th>\n",
       "      <th>Other_Sales</th>\n",
       "      <th>Global_Sales</th>\n",
       "    </tr>\n",
       "    <tr>\n",
       "      <th>Year</th>\n",
       "      <th></th>\n",
       "      <th></th>\n",
       "      <th></th>\n",
       "      <th></th>\n",
       "      <th></th>\n",
       "    </tr>\n",
       "  </thead>\n",
       "  <tbody>\n",
       "    <tr>\n",
       "      <th>1980</th>\n",
       "      <td>10.59</td>\n",
       "      <td>0.67</td>\n",
       "      <td>0.00</td>\n",
       "      <td>0.12</td>\n",
       "      <td>11.38</td>\n",
       "    </tr>\n",
       "    <tr>\n",
       "      <th>1981</th>\n",
       "      <td>33.05</td>\n",
       "      <td>1.96</td>\n",
       "      <td>0.00</td>\n",
       "      <td>0.32</td>\n",
       "      <td>35.77</td>\n",
       "    </tr>\n",
       "    <tr>\n",
       "      <th>1982</th>\n",
       "      <td>26.92</td>\n",
       "      <td>1.65</td>\n",
       "      <td>0.00</td>\n",
       "      <td>0.31</td>\n",
       "      <td>28.86</td>\n",
       "    </tr>\n",
       "    <tr>\n",
       "      <th>1983</th>\n",
       "      <td>7.76</td>\n",
       "      <td>0.80</td>\n",
       "      <td>8.10</td>\n",
       "      <td>0.14</td>\n",
       "      <td>16.79</td>\n",
       "    </tr>\n",
       "    <tr>\n",
       "      <th>1984</th>\n",
       "      <td>33.28</td>\n",
       "      <td>2.10</td>\n",
       "      <td>14.27</td>\n",
       "      <td>0.70</td>\n",
       "      <td>50.36</td>\n",
       "    </tr>\n",
       "    <tr>\n",
       "      <th>1985</th>\n",
       "      <td>33.27</td>\n",
       "      <td>4.74</td>\n",
       "      <td>14.56</td>\n",
       "      <td>0.92</td>\n",
       "      <td>53.94</td>\n",
       "    </tr>\n",
       "    <tr>\n",
       "      <th>1986</th>\n",
       "      <td>12.50</td>\n",
       "      <td>2.84</td>\n",
       "      <td>19.81</td>\n",
       "      <td>1.93</td>\n",
       "      <td>37.07</td>\n",
       "    </tr>\n",
       "    <tr>\n",
       "      <th>1987</th>\n",
       "      <td>8.46</td>\n",
       "      <td>1.41</td>\n",
       "      <td>11.63</td>\n",
       "      <td>0.20</td>\n",
       "      <td>21.74</td>\n",
       "    </tr>\n",
       "    <tr>\n",
       "      <th>1988</th>\n",
       "      <td>23.87</td>\n",
       "      <td>6.59</td>\n",
       "      <td>15.76</td>\n",
       "      <td>0.99</td>\n",
       "      <td>47.22</td>\n",
       "    </tr>\n",
       "    <tr>\n",
       "      <th>1989</th>\n",
       "      <td>45.15</td>\n",
       "      <td>8.44</td>\n",
       "      <td>18.36</td>\n",
       "      <td>1.50</td>\n",
       "      <td>73.45</td>\n",
       "    </tr>\n",
       "    <tr>\n",
       "      <th>1990</th>\n",
       "      <td>25.46</td>\n",
       "      <td>7.63</td>\n",
       "      <td>14.88</td>\n",
       "      <td>1.40</td>\n",
       "      <td>49.39</td>\n",
       "    </tr>\n",
       "    <tr>\n",
       "      <th>1991</th>\n",
       "      <td>12.76</td>\n",
       "      <td>3.95</td>\n",
       "      <td>14.78</td>\n",
       "      <td>0.74</td>\n",
       "      <td>32.23</td>\n",
       "    </tr>\n",
       "    <tr>\n",
       "      <th>1992</th>\n",
       "      <td>33.87</td>\n",
       "      <td>11.71</td>\n",
       "      <td>28.91</td>\n",
       "      <td>1.65</td>\n",
       "      <td>76.16</td>\n",
       "    </tr>\n",
       "    <tr>\n",
       "      <th>1993</th>\n",
       "      <td>14.12</td>\n",
       "      <td>4.65</td>\n",
       "      <td>25.33</td>\n",
       "      <td>0.89</td>\n",
       "      <td>45.98</td>\n",
       "    </tr>\n",
       "    <tr>\n",
       "      <th>1994</th>\n",
       "      <td>28.15</td>\n",
       "      <td>14.88</td>\n",
       "      <td>33.99</td>\n",
       "      <td>2.20</td>\n",
       "      <td>79.17</td>\n",
       "    </tr>\n",
       "    <tr>\n",
       "      <th>1995</th>\n",
       "      <td>24.82</td>\n",
       "      <td>14.71</td>\n",
       "      <td>45.75</td>\n",
       "      <td>2.64</td>\n",
       "      <td>88.11</td>\n",
       "    </tr>\n",
       "    <tr>\n",
       "      <th>1996</th>\n",
       "      <td>86.76</td>\n",
       "      <td>47.26</td>\n",
       "      <td>57.44</td>\n",
       "      <td>7.69</td>\n",
       "      <td>199.15</td>\n",
       "    </tr>\n",
       "    <tr>\n",
       "      <th>1997</th>\n",
       "      <td>94.30</td>\n",
       "      <td>48.32</td>\n",
       "      <td>48.87</td>\n",
       "      <td>9.13</td>\n",
       "      <td>200.98</td>\n",
       "    </tr>\n",
       "    <tr>\n",
       "      <th>1998</th>\n",
       "      <td>128.36</td>\n",
       "      <td>66.70</td>\n",
       "      <td>50.04</td>\n",
       "      <td>11.03</td>\n",
       "      <td>256.47</td>\n",
       "    </tr>\n",
       "    <tr>\n",
       "      <th>1999</th>\n",
       "      <td>125.61</td>\n",
       "      <td>62.67</td>\n",
       "      <td>52.34</td>\n",
       "      <td>10.05</td>\n",
       "      <td>251.27</td>\n",
       "    </tr>\n",
       "    <tr>\n",
       "      <th>2000</th>\n",
       "      <td>92.10</td>\n",
       "      <td>52.75</td>\n",
       "      <td>42.77</td>\n",
       "      <td>11.62</td>\n",
       "      <td>201.56</td>\n",
       "    </tr>\n",
       "    <tr>\n",
       "      <th>2001</th>\n",
       "      <td>173.72</td>\n",
       "      <td>94.89</td>\n",
       "      <td>40.07</td>\n",
       "      <td>22.76</td>\n",
       "      <td>331.47</td>\n",
       "    </tr>\n",
       "    <tr>\n",
       "      <th>2002</th>\n",
       "      <td>215.78</td>\n",
       "      <td>109.09</td>\n",
       "      <td>41.76</td>\n",
       "      <td>27.28</td>\n",
       "      <td>395.52</td>\n",
       "    </tr>\n",
       "    <tr>\n",
       "      <th>2003</th>\n",
       "      <td>192.97</td>\n",
       "      <td>102.37</td>\n",
       "      <td>34.43</td>\n",
       "      <td>26.01</td>\n",
       "      <td>357.85</td>\n",
       "    </tr>\n",
       "    <tr>\n",
       "      <th>2004</th>\n",
       "      <td>218.41</td>\n",
       "      <td>105.92</td>\n",
       "      <td>41.65</td>\n",
       "      <td>47.24</td>\n",
       "      <td>414.01</td>\n",
       "    </tr>\n",
       "    <tr>\n",
       "      <th>2005</th>\n",
       "      <td>241.55</td>\n",
       "      <td>121.56</td>\n",
       "      <td>54.28</td>\n",
       "      <td>40.55</td>\n",
       "      <td>458.51</td>\n",
       "    </tr>\n",
       "    <tr>\n",
       "      <th>2006</th>\n",
       "      <td>262.93</td>\n",
       "      <td>128.46</td>\n",
       "      <td>73.73</td>\n",
       "      <td>54.43</td>\n",
       "      <td>521.04</td>\n",
       "    </tr>\n",
       "    <tr>\n",
       "      <th>2007</th>\n",
       "      <td>310.43</td>\n",
       "      <td>159.75</td>\n",
       "      <td>60.21</td>\n",
       "      <td>77.58</td>\n",
       "      <td>609.84</td>\n",
       "    </tr>\n",
       "    <tr>\n",
       "      <th>2008</th>\n",
       "      <td>349.40</td>\n",
       "      <td>183.78</td>\n",
       "      <td>60.26</td>\n",
       "      <td>82.39</td>\n",
       "      <td>678.90</td>\n",
       "    </tr>\n",
       "    <tr>\n",
       "      <th>2009</th>\n",
       "      <td>338.68</td>\n",
       "      <td>190.71</td>\n",
       "      <td>61.89</td>\n",
       "      <td>74.77</td>\n",
       "      <td>667.30</td>\n",
       "    </tr>\n",
       "    <tr>\n",
       "      <th>2010</th>\n",
       "      <td>301.36</td>\n",
       "      <td>175.40</td>\n",
       "      <td>59.45</td>\n",
       "      <td>59.90</td>\n",
       "      <td>600.25</td>\n",
       "    </tr>\n",
       "    <tr>\n",
       "      <th>2011</th>\n",
       "      <td>240.25</td>\n",
       "      <td>166.36</td>\n",
       "      <td>53.04</td>\n",
       "      <td>54.39</td>\n",
       "      <td>515.80</td>\n",
       "    </tr>\n",
       "    <tr>\n",
       "      <th>2012</th>\n",
       "      <td>154.03</td>\n",
       "      <td>117.46</td>\n",
       "      <td>51.74</td>\n",
       "      <td>37.82</td>\n",
       "      <td>363.49</td>\n",
       "    </tr>\n",
       "    <tr>\n",
       "      <th>2013</th>\n",
       "      <td>154.77</td>\n",
       "      <td>123.80</td>\n",
       "      <td>47.59</td>\n",
       "      <td>39.82</td>\n",
       "      <td>368.11</td>\n",
       "    </tr>\n",
       "    <tr>\n",
       "      <th>2014</th>\n",
       "      <td>131.97</td>\n",
       "      <td>125.10</td>\n",
       "      <td>39.46</td>\n",
       "      <td>40.02</td>\n",
       "      <td>337.03</td>\n",
       "    </tr>\n",
       "    <tr>\n",
       "      <th>2015</th>\n",
       "      <td>102.38</td>\n",
       "      <td>97.21</td>\n",
       "      <td>33.72</td>\n",
       "      <td>30.01</td>\n",
       "      <td>264.44</td>\n",
       "    </tr>\n",
       "    <tr>\n",
       "      <th>2016</th>\n",
       "      <td>22.66</td>\n",
       "      <td>26.76</td>\n",
       "      <td>13.67</td>\n",
       "      <td>7.75</td>\n",
       "      <td>70.90</td>\n",
       "    </tr>\n",
       "    <tr>\n",
       "      <th>2017</th>\n",
       "      <td>0.00</td>\n",
       "      <td>0.00</td>\n",
       "      <td>0.05</td>\n",
       "      <td>0.00</td>\n",
       "      <td>0.05</td>\n",
       "    </tr>\n",
       "    <tr>\n",
       "      <th>2020</th>\n",
       "      <td>0.27</td>\n",
       "      <td>0.00</td>\n",
       "      <td>0.00</td>\n",
       "      <td>0.02</td>\n",
       "      <td>0.29</td>\n",
       "    </tr>\n",
       "  </tbody>\n",
       "</table>\n",
       "</div>"
      ],
      "text/plain": [
       "      NA_Sales  EU_Sales  JP_Sales  Other_Sales  Global_Sales\n",
       "Year                                                         \n",
       "1980     10.59      0.67      0.00         0.12         11.38\n",
       "1981     33.05      1.96      0.00         0.32         35.77\n",
       "1982     26.92      1.65      0.00         0.31         28.86\n",
       "1983      7.76      0.80      8.10         0.14         16.79\n",
       "1984     33.28      2.10     14.27         0.70         50.36\n",
       "1985     33.27      4.74     14.56         0.92         53.94\n",
       "1986     12.50      2.84     19.81         1.93         37.07\n",
       "1987      8.46      1.41     11.63         0.20         21.74\n",
       "1988     23.87      6.59     15.76         0.99         47.22\n",
       "1989     45.15      8.44     18.36         1.50         73.45\n",
       "1990     25.46      7.63     14.88         1.40         49.39\n",
       "1991     12.76      3.95     14.78         0.74         32.23\n",
       "1992     33.87     11.71     28.91         1.65         76.16\n",
       "1993     14.12      4.65     25.33         0.89         45.98\n",
       "1994     28.15     14.88     33.99         2.20         79.17\n",
       "1995     24.82     14.71     45.75         2.64         88.11\n",
       "1996     86.76     47.26     57.44         7.69        199.15\n",
       "1997     94.30     48.32     48.87         9.13        200.98\n",
       "1998    128.36     66.70     50.04        11.03        256.47\n",
       "1999    125.61     62.67     52.34        10.05        251.27\n",
       "2000     92.10     52.75     42.77        11.62        201.56\n",
       "2001    173.72     94.89     40.07        22.76        331.47\n",
       "2002    215.78    109.09     41.76        27.28        395.52\n",
       "2003    192.97    102.37     34.43        26.01        357.85\n",
       "2004    218.41    105.92     41.65        47.24        414.01\n",
       "2005    241.55    121.56     54.28        40.55        458.51\n",
       "2006    262.93    128.46     73.73        54.43        521.04\n",
       "2007    310.43    159.75     60.21        77.58        609.84\n",
       "2008    349.40    183.78     60.26        82.39        678.90\n",
       "2009    338.68    190.71     61.89        74.77        667.30\n",
       "2010    301.36    175.40     59.45        59.90        600.25\n",
       "2011    240.25    166.36     53.04        54.39        515.80\n",
       "2012    154.03    117.46     51.74        37.82        363.49\n",
       "2013    154.77    123.80     47.59        39.82        368.11\n",
       "2014    131.97    125.10     39.46        40.02        337.03\n",
       "2015    102.38     97.21     33.72        30.01        264.44\n",
       "2016     22.66     26.76     13.67         7.75         70.90\n",
       "2017      0.00      0.00      0.05         0.00          0.05\n",
       "2020      0.27      0.00      0.00         0.02          0.29"
      ]
     },
     "execution_count": 76,
     "metadata": {},
     "output_type": "execute_result"
    }
   ],
   "source": [
    "lata"
   ]
  },
  {
   "cell_type": "code",
   "execution_count": 163,
   "metadata": {},
   "outputs": [],
   "source": [
    "lata=dane.groupby('Year').sum()\n",
    "lata\n",
    "grupy=[['1980-1989'],['1990-1999'],['2000-2009'],['2010-2020']]\n",
    "gen = iter(range(4))\n",
    "for i in range(1980,2020,10):\n",
    "    grupy[next(gen)].append(sum(lata.Global_Sales.loc[i:i+9]))\n",
    "grupy[3][1] += lata.Global_Sales.loc[2020]"
   ]
  },
  {
   "cell_type": "raw",
   "metadata": {},
   "source": []
  },
  {
   "cell_type": "code",
   "execution_count": 118,
   "metadata": {},
   "outputs": [
    {
     "data": {
      "text/plain": [
       "[['1980-1989', 376.58],\n",
       " ['1990-1999', 1278.9099999999999],\n",
       " ['2000-2009', 4635.999999999967],\n",
       " ['2010-2020', 2520.3599999999856]]"
      ]
     },
     "execution_count": 118,
     "metadata": {},
     "output_type": "execute_result"
    }
   ],
   "source": [
    "grupy_lista"
   ]
  },
  {
   "cell_type": "code",
   "execution_count": 160,
   "metadata": {},
   "outputs": [
    {
     "data": {
      "text/plain": [
       "['1980-1989', '1990-1999', '2000-2009', '2010-2020']"
      ]
     },
     "execution_count": 160,
     "metadata": {},
     "output_type": "execute_result"
    }
   ],
   "source": [
    "cols = ['#ccccff', '#9999ff', '#39ac73', '#9fdfbf']\n",
    "grupy_lista=list(grupy)\n",
    "grupy_lista_var=[]\n",
    "for i in range(4):\n",
    "    grupy_lista_var.append(grupy_lista[i][1])\n",
    "grupy_lista_var\n",
    "grupy_lista_labels=[]\n",
    "for i in range(4):\n",
    "    grupy_lista_labels.append(grupy_lista[i][0])\n",
    "grupy_lista_labels"
   ]
  },
  {
   "cell_type": "code",
   "execution_count": 176,
   "metadata": {},
   "outputs": [
    {
     "data": {
      "image/png": "[encoded data removed]",
      "text/plain": [
       "<Figure size 576x396 with 1 Axes>"
      ]
     },
     "metadata": {},
     "output_type": "display_data"
    }
   ],
   "source": [
    "plt.pie(grupy_lista_var,\n",
    "        labels = grupy_lista_labels,\n",
    "        colors=cols,\n",
    "        startangle = 90,\n",
    "        explode = (0.05, 0.05, 0.05, 0.05),\n",
    "        shadow = True,\n",
    "        # To drag the slices away from the centre of the plot.\n",
    "        # To display the percent value using Python string formatting.\n",
    "        autopct = '%1.1f%%')\n",
    "plt.title('Procent globalnych sprzedaży gier w kolejnych dekadach')\n",
    "plt.show()"
   ]
  },
  {
   "cell_type": "code",
   "execution_count": null,
   "metadata": {},
   "outputs": [],
   "source": []
  }
 ],
 "metadata": {
  "kernelspec": {
   "display_name": "Python 3",
   "language": "python",
   "name": "python3"
  },
  "language_info": {
   "codemirror_mode": {
    "name": "ipython",
    "version": 3
   },
   "file_extension": ".py",
   "mimetype": "text/x-python",
   "name": "python",
   "nbconvert_exporter": "python",
   "pygments_lexer": "ipython3",
   "version": "3.8.3"
  }
 },
 "nbformat": 4,
 "nbformat_minor": 4
}
